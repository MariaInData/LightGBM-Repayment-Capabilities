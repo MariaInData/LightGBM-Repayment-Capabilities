{
 "cells": [
  {
   "cell_type": "code",
   "execution_count": 24,
   "metadata": {
    "_cell_guid": "b1076dfc-b9ad-4769-8c92-a6c4dae69d19",
    "_uuid": "8f2839f25d086af736a60e9eeb907d3b93b6e0e5",
    "execution": {
     "iopub.execute_input": "2022-12-05T07:03:12.080199Z",
     "iopub.status.busy": "2022-12-05T07:03:12.079551Z",
     "iopub.status.idle": "2022-12-05T07:03:12.088347Z",
     "shell.execute_reply": "2022-12-05T07:03:12.087569Z",
     "shell.execute_reply.started": "2022-12-05T07:03:12.080163Z"
    }
   },
   "outputs": [
    {
     "name": "stdout",
     "output_type": "stream",
     "text": [
      "/kaggle/input/corrected/test_corrected.csv\n",
      "/kaggle/input/corrected/train_corrected.csv\n",
      "/kaggle/input/data-collinearity-removed/train_removed_collinear.csv\n",
      "/kaggle/input/data-collinearity-removed/test_removed_collinear.csv\n",
      "/kaggle/input/data-ratios/test_with_ratios.csv\n",
      "/kaggle/input/data-ratios/train_with_ratios.csv\n"
     ]
    }
   ],
   "source": [
    "# This Python 3 environment comes with many helpful analytics libraries installed\n",
    "# It is defined by the kaggle/python Docker image: https://github.com/kaggle/docker-python\n",
    "# For example, here's several helpful packages to load\n",
    "\n",
    "import numpy as np # linear algebra\n",
    "import pandas as pd # data processing, CSV file I/O (e.g. pd.read_csv)\n",
    "\n",
    "# Input data files are available in the read-only \"../input/\" directory\n",
    "# For example, running this (by clicking run or pressing Shift+Enter) will list all files under the input directory\n",
    "\n",
    "import os\n",
    "for dirname, _, filenames in os.walk('/kaggle/input'):\n",
    "    for filename in filenames:\n",
    "        print(os.path.join(dirname, filename))\n",
    "\n",
    "# You can write up to 20GB to the current directory (/kaggle/working/) that gets preserved as output when you create a version using \"Save & Run All\" \n",
    "# You can also write temporary files to /kaggle/temp/, but they won't be saved outside of the current session"
   ]
  },
  {
   "cell_type": "markdown",
   "metadata": {},
   "source": [
    "## Importing relevant packages"
   ]
  },
  {
   "cell_type": "code",
   "execution_count": 2,
   "metadata": {
    "_kg_hide-input": false,
    "execution": {
     "iopub.execute_input": "2022-12-05T07:55:54.290923Z",
     "iopub.status.busy": "2022-12-05T07:55:54.290179Z",
     "iopub.status.idle": "2022-12-05T07:55:57.137822Z",
     "shell.execute_reply": "2022-12-05T07:55:57.136327Z",
     "shell.execute_reply.started": "2022-12-05T07:55:54.290881Z"
    }
   },
   "outputs": [
    {
     "name": "stderr",
     "output_type": "stream",
     "text": [
      "/opt/conda/lib/python3.7/site-packages/woodwork/__init__.py:23: FutureWarning: Woodwork may not support Python 3.7 in next non-bugfix release.\n",
      "  \"Woodwork may not support Python 3.7 in next non-bugfix release.\", FutureWarning\n",
      "/opt/conda/lib/python3.7/site-packages/featuretools/__init__.py:67: FutureWarning: Featuretools may not support Python 3.7 in next non-bugfix release.\n",
      "  FutureWarning,\n"
     ]
    },
    {
     "data": {
      "text/html": [
       "<style type='text/css'>\n",
       ".datatable table.frame { margin-bottom: 0; }\n",
       ".datatable table.frame thead { border-bottom: none; }\n",
       ".datatable table.frame tr.coltypes td {  color: #FFFFFF;  line-height: 6px;  padding: 0 0.5em;}\n",
       ".datatable .bool    { background: #DDDD99; }\n",
       ".datatable .object  { background: #565656; }\n",
       ".datatable .int     { background: #5D9E5D; }\n",
       ".datatable .float   { background: #4040CC; }\n",
       ".datatable .str     { background: #CC4040; }\n",
       ".datatable .time    { background: #40CC40; }\n",
       ".datatable .row_index {  background: var(--jp-border-color3);  border-right: 1px solid var(--jp-border-color0);  color: var(--jp-ui-font-color3);  font-size: 9px;}\n",
       ".datatable .frame tbody td { text-align: left; }\n",
       ".datatable .frame tr.coltypes .row_index {  background: var(--jp-border-color0);}\n",
       ".datatable th:nth-child(2) { padding-left: 12px; }\n",
       ".datatable .hellipsis {  color: var(--jp-cell-editor-border-color);}\n",
       ".datatable .vellipsis {  background: var(--jp-layout-color0);  color: var(--jp-cell-editor-border-color);}\n",
       ".datatable .na {  color: var(--jp-cell-editor-border-color);  font-size: 80%;}\n",
       ".datatable .sp {  opacity: 0.25;}\n",
       ".datatable .footer { font-size: 9px; }\n",
       ".datatable .frame_dimensions {  background: var(--jp-border-color3);  border-top: 1px solid var(--jp-border-color0);  color: var(--jp-ui-font-color3);  display: inline-block;  opacity: 0.6;  padding: 1px 10px 1px 5px;}\n",
       ".datatable .frame thead tr.colnames {  background-image: url('data:image/png;base64,iVBORw0KGgoAAAANSUhEUgAAABwAAAA4CAYAAADuMJi0AAAGR0lEQVR42rVZ21IbRxBtCbQrkIR2dQVjsLmDLBsET3nTQ8ouYRkQVf6e/E9+Im958qMfkgoXAaKSSj6C9Jnd2R2NeiRSRaZqitVOT5+Z6dNnWoKGlN94JFp8Ipofkb/7SOXjGyp8wF+z35K3f0uUp/GW4XfLQ8v2gefj3ZCCzojoNfue+43o1Q3l3xB/yA3JO7jnF2pCLnI+pNyx/qw7L+SQ7T2N9p2f8c60QcfcK6KGXsAd+ZvA4LlZYuSSAoOhMs5vwJkEGDlbPMaJoA+FcQ0IH38QLWkbAFLkOOhoMF5tU6/eBRhNjro0ZgKiPRAt3FLhCO/vqdgmNTm32LkmKpvBmQY4q5uAaAgbwDBG2BVv3bfI8KKAMWj2kfw9+pkZREIbEql4ST1x7hgHIANkbJ//MF8mAH/ilTCJ2tIi4ASr1IC3VNqXHKOxjy34mgoImnOQtx1g81fkqTiMOBVGcTogNhiT5iBHET8R8C+iApJUmgim3SQAXhsLQz7ee2G8gOAQNtJckBEplADiAxtX+G9NmhDl0qJKnTvyWlAMPYZnvIviGXRg6/Dh824DBXhP/tbfREXJEIvQ+aaPGjG7pvw6r3xdx+9hqb4dgZaP2XmdHO2K/B0c1+oUph6k8kShBryl/Ft0DYgjTlOieOACHFFpVyUl72T9V3cM1jUoYvxIC2vpCSys/ck70mDYuYvdvKjlMdKAUThneWVU1aAsyjv6PURDiwNsHGBZzY+JtAAgE2TFxdRHJdyIp/f+zqu09M5cDP2F08Ukkpj4YNSdX950HY2pNCCUK/Hhx5ZMBfjNSEzdsIihVzzAMdn9dz4eDYhnyQb9SSCiAryiJcQk82LiTbJ4x2FZJaUenpKnzP95WyDf4Y+QN9EFHHSeDLGdBjjKNQ5vKHf4XMA7KrY0y0GEObBOO/8e1ywuQExOHXktuQyJALEBpcEqhwtHqgiDuCK5b6i0p2MQpcckIIoh+6hYgTZtO8xlMi6O4tKCF/kOGHEg/W0UUpHW0ZoGNZ1ExZWcn7EErgwt4uj50E/sFBjXXIayWvh7WryjasxarZKssXon0zxvvkc32Q0bqbBCuZiKt9dWFysfQefeL29JYFaeztX6tePaZdz5mYx8+6Zq3Mk0wXECQxlhdzgS2wjBHju3j1RIgKyOMdNUE8X0+RAdbSapS11MRCv1SzUXmO6wGZe2SQYrv2MvCSWEv2VODE6DN7bz8ufypgQKW7uQskFTQHULLKyaEyrnlZbgOGLrV5qrn9U79jjm2HJmgkaVN98AfBub91lGPLZBqdroN5LYgjSu4zYZDDHXZOIPC691HqrWI1900I8qLzgKP4ft8DxEWigprPfrO+KcXno9gZz4jjGewWdUcpGCj0qVFuGPYbl2VturndZ2qRvlL8acDO6lF/DY/VjsFesiUK+ypJ+r/ep+cJkSQxEK4PG4WozgA75TYrDDqStE69K8/mzGEM+JXTeqvmedEElMmwCMm2SLd6bNNF9su02zEtoW6nAQtpMj5Gd7fKa//wqonF7UdtHFsVn+6hf1o7AfriPH7M6EeIUEF5zKVxXbYo7kS/OEtOqDYZKPoBsETIixn0uYrasThmzDkhdKPkz2EnaX0HdQbIgr59vAdGYDqjHrxkjS7WOxkTD8sqEqhiwcJETgBYigrBqF08KyDaje9SZ/I1A7MzaTzMGDEulPtZUkuKcyIRAjxEJPVrnVlb/9wkfij31D/pQt1IN+iL8bGJcstBIO7Y5VI/cwDqURbXhMuJxBqD0KLoK3esWFs0Jz5i5ZvJUAfFJMFb9XmGIOnzGpijpcWYCaMqXSQWp8EnCABepQ0Elyi4wfKfsw78ikIqif1pe1AGPlLmojl1SKxHHXp1L+Ut7AmDQHvhI5xHGi4EooO2BR7k78PEkJOdL7cAxQUZ/Tyclu9gnfwGgOmm2lNHGNmZXsq4Pqgc1EG1ATrvKl8s4R9ywwnqulGUnaRLVhxy8v3ieUwy2hbooT68uscW++DCDH0WSzuoyN2D4LUJ/tLECbcSKznwMIFs0ChF4mRTCnQbIIfk4SHJo6A9BMuTnXTs3Ku/KxsgZWqzuSe+Os8cEUfnMBY6UF5gi3SUbd5K7vDjq5WW0UENJlRsWn4sy21Er/E/AvPQSFHy1p4fgAAAAASUVORK5CYII=');  background-repeat: repeat-x;  background-size: 14px;  height: 28px;}\n",
       "</style>\n"
      ],
      "text/plain": [
       "<IPython.core.display.HTML object>"
      ]
     },
     "metadata": {},
     "output_type": "display_data"
    }
   ],
   "source": [
    "# pandas and numpy for data manipulation\n",
    "import pandas as pd\n",
    "import numpy as np\n",
    "\n",
    "# featuretools for automated feature engineering\n",
    "import featuretools as ft\n",
    "\n",
    "# matplotlit and seaborn for visualizations\n",
    "import matplotlib.pyplot as plt\n",
    "plt.rcParams['font.size'] = 22\n",
    "import seaborn as sns\n",
    "\n",
    "# Suppress warnings from pandas\n",
    "import warnings\n",
    "warnings.filterwarnings('ignore')\n",
    "\n",
    "# modeling \n",
    "import lightgbm as lgb\n",
    "\n",
    "# utilities\n",
    "from sklearn.model_selection import train_test_split\n",
    "from sklearn.model_selection import KFold\n",
    "from sklearn.metrics import roc_auc_score\n",
    "from sklearn.preprocessing import LabelEncoder\n",
    "\n",
    "# memory management\n",
    "import gc"
   ]
  },
  {
   "cell_type": "markdown",
   "metadata": {},
   "source": [
    "## Reading the Data"
   ]
  },
  {
   "cell_type": "code",
   "execution_count": 47,
   "metadata": {
    "execution": {
     "iopub.execute_input": "2022-12-05T07:07:13.959126Z",
     "iopub.status.busy": "2022-12-05T07:07:13.957707Z",
     "iopub.status.idle": "2022-12-05T07:08:22.535307Z",
     "shell.execute_reply": "2022-12-05T07:08:22.534089Z",
     "shell.execute_reply.started": "2022-12-05T07:07:13.959025Z"
    }
   },
   "outputs": [],
   "source": [
    "train = pd.read_csv(\"/kaggle/input/corrected/train_corrected.csv\")\n",
    "test = pd.read_csv(\"/kaggle/input/corrected/test_corrected.csv\")"
   ]
  },
  {
   "cell_type": "markdown",
   "metadata": {},
   "source": [
    "## Advanced Feature Engineering"
   ]
  },
  {
   "cell_type": "markdown",
   "metadata": {},
   "source": [
    "We will be working on the following ratios:\n",
    "1. Credit \n",
    "2. Income \n",
    "3. Time\n",
    "4. Credit to Income\n",
    "5. Previous to Current Credit\n",
    "6. Previous to Current Annuity\n",
    "7. Installment payments to Annuity\n",
    "\n",
    "We will also create some features based on external sources.\n"
   ]
  },
  {
   "cell_type": "markdown",
   "metadata": {},
   "source": [
    "## Credit Ratios"
   ]
  },
  {
   "cell_type": "code",
   "execution_count": 48,
   "metadata": {
    "execution": {
     "iopub.execute_input": "2022-12-05T07:08:49.050200Z",
     "iopub.status.busy": "2022-12-05T07:08:49.049793Z",
     "iopub.status.idle": "2022-12-05T07:08:49.060607Z",
     "shell.execute_reply": "2022-12-05T07:08:49.059346Z",
     "shell.execute_reply.started": "2022-12-05T07:08:49.050168Z"
    }
   },
   "outputs": [],
   "source": [
    "train['CREDIT_TO_ANNUITY_RATIO'] = train['AMT_CREDIT'] / train['AMT_ANNUITY']\n",
    "train['CREDIT_TO_GOODS_RATIO'] = train['AMT_CREDIT'] / train['AMT_GOODS_PRICE']"
   ]
  },
  {
   "cell_type": "code",
   "execution_count": 49,
   "metadata": {
    "execution": {
     "iopub.execute_input": "2022-12-05T07:08:51.329650Z",
     "iopub.status.busy": "2022-12-05T07:08:51.329214Z",
     "iopub.status.idle": "2022-12-05T07:08:51.338948Z",
     "shell.execute_reply": "2022-12-05T07:08:51.337703Z",
     "shell.execute_reply.started": "2022-12-05T07:08:51.329619Z"
    }
   },
   "outputs": [],
   "source": [
    "test['CREDIT_TO_ANNUITY_RATIO'] = test['AMT_CREDIT'] / test['AMT_ANNUITY']\n",
    "test['CREDIT_TO_GOODS_RATIO'] = test['AMT_CREDIT'] / test['AMT_GOODS_PRICE']"
   ]
  },
  {
   "cell_type": "markdown",
   "metadata": {},
   "source": [
    "## Income Ratios"
   ]
  },
  {
   "cell_type": "code",
   "execution_count": 50,
   "metadata": {
    "execution": {
     "iopub.execute_input": "2022-12-05T07:08:54.254573Z",
     "iopub.status.busy": "2022-12-05T07:08:54.254141Z",
     "iopub.status.idle": "2022-12-05T07:08:54.269601Z",
     "shell.execute_reply": "2022-12-05T07:08:54.268421Z",
     "shell.execute_reply.started": "2022-12-05T07:08:54.254539Z"
    }
   },
   "outputs": [],
   "source": [
    "train['ANNUITY_TO_INCOME_RATIO'] = train['AMT_ANNUITY'] / train['AMT_INCOME_TOTAL']\n",
    "train['CREDIT_TO_INCOME_RATIO'] = train['AMT_CREDIT'] / train['AMT_INCOME_TOTAL']\n",
    "train['INCOME_TO_EMPLOYED_RATIO'] = train['AMT_INCOME_TOTAL'] / train['DAYS_EMPLOYED']\n",
    "train['INCOME_TO_BIRTH_RATIO'] = train['AMT_INCOME_TOTAL'] / train['DAYS_BIRTH']"
   ]
  },
  {
   "cell_type": "code",
   "execution_count": 51,
   "metadata": {
    "execution": {
     "iopub.execute_input": "2022-12-05T07:09:00.289300Z",
     "iopub.status.busy": "2022-12-05T07:09:00.288127Z",
     "iopub.status.idle": "2022-12-05T07:09:00.300192Z",
     "shell.execute_reply": "2022-12-05T07:09:00.299015Z",
     "shell.execute_reply.started": "2022-12-05T07:09:00.289235Z"
    }
   },
   "outputs": [],
   "source": [
    "test['ANNUITY_TO_INCOME_RATIO'] = test['AMT_ANNUITY'] / test['AMT_INCOME_TOTAL']\n",
    "test['CREDIT_TO_INCOME_RATIO'] = test['AMT_CREDIT'] / test['AMT_INCOME_TOTAL']\n",
    "test['INCOME_TO_EMPLOYED_RATIO'] = test['AMT_INCOME_TOTAL'] / test['DAYS_EMPLOYED']\n",
    "test['INCOME_TO_BIRTH_RATIO'] = test['AMT_INCOME_TOTAL'] / test['DAYS_BIRTH']    "
   ]
  },
  {
   "cell_type": "markdown",
   "metadata": {},
   "source": [
    "## Time Ratios"
   ]
  },
  {
   "cell_type": "code",
   "execution_count": 52,
   "metadata": {
    "execution": {
     "iopub.execute_input": "2022-12-05T07:09:03.323969Z",
     "iopub.status.busy": "2022-12-05T07:09:03.323542Z",
     "iopub.status.idle": "2022-12-05T07:09:03.341609Z",
     "shell.execute_reply": "2022-12-05T07:09:03.340546Z",
     "shell.execute_reply.started": "2022-12-05T07:09:03.323933Z"
    }
   },
   "outputs": [],
   "source": [
    "train['EMPLOYED_TO_BIRTH_RATIO'] = train['DAYS_EMPLOYED'] / train['DAYS_BIRTH']\n",
    "train['ID_TO_BIRTH_RATIO'] = train['DAYS_ID_PUBLISH'] / train['DAYS_BIRTH']\n",
    "train['CAR_TO_BIRTH_RATIO'] = train['OWN_CAR_AGE'] / train['DAYS_BIRTH']\n",
    "train['CAR_TO_EMPLOYED_RATIO'] = train['OWN_CAR_AGE'] / train['DAYS_EMPLOYED']\n",
    "train['PHONE_TO_BIRTH_RATIO'] = train['DAYS_LAST_PHONE_CHANGE'] / train['DAYS_BIRTH']\n",
    "train['DAYS_DECISION_MEAN_TO_BIRTH'] = train['previous_DAYS_DECISION_mean'] / train['DAYS_BIRTH']\n",
    "train['DAYS_CREDIT_MEAN_TO_BIRTH'] = train['bureau_DAYS_CREDIT_mean'] / train['DAYS_BIRTH']\n",
    "train['DAYS_DECISION_MEAN_TO_EMPLOYED'] = train['previous_DAYS_DECISION_mean'] / train['DAYS_EMPLOYED']\n",
    "train['DAYS_CREDIT_MEAN_TO_EMPLOYED'] = train['bureau_DAYS_CREDIT_mean'] / train['DAYS_EMPLOYED']"
   ]
  },
  {
   "cell_type": "code",
   "execution_count": 53,
   "metadata": {
    "execution": {
     "iopub.execute_input": "2022-12-05T07:09:05.936991Z",
     "iopub.status.busy": "2022-12-05T07:09:05.936245Z",
     "iopub.status.idle": "2022-12-05T07:09:05.948176Z",
     "shell.execute_reply": "2022-12-05T07:09:05.947332Z",
     "shell.execute_reply.started": "2022-12-05T07:09:05.936953Z"
    }
   },
   "outputs": [],
   "source": [
    "test['EMPLOYED_TO_BIRTH_RATIO'] = test['DAYS_EMPLOYED'] / test['DAYS_BIRTH']\n",
    "test['ID_TO_BIRTH_RATIO'] = test['DAYS_ID_PUBLISH'] / test['DAYS_BIRTH']\n",
    "test['CAR_TO_BIRTH_RATIO'] = test['OWN_CAR_AGE'] / test['DAYS_BIRTH']\n",
    "test['CAR_TO_EMPLOYED_RATIO'] = test['OWN_CAR_AGE'] / test['DAYS_EMPLOYED']\n",
    "test['PHONE_TO_BIRTH_RATIO'] = test['DAYS_LAST_PHONE_CHANGE'] / test['DAYS_BIRTH']\n",
    "test['DAYS_DECISION_MEAN_TO_BIRTH'] = test['previous_DAYS_DECISION_mean'] / test['DAYS_BIRTH']\n",
    "test['DAYS_CREDIT_MEAN_TO_BIRTH'] = test['bureau_DAYS_CREDIT_mean'] / test['DAYS_BIRTH']\n",
    "test['DAYS_DECISION_MEAN_TO_EMPLOYED'] = test['previous_DAYS_DECISION_mean'] / test['DAYS_EMPLOYED']\n",
    "test['DAYS_CREDIT_MEAN_TO_EMPLOYED'] = test['bureau_DAYS_CREDIT_mean'] / test['DAYS_EMPLOYED']"
   ]
  },
  {
   "cell_type": "markdown",
   "metadata": {},
   "source": [
    "## Credit to Income Ratios"
   ]
  },
  {
   "cell_type": "code",
   "execution_count": 54,
   "metadata": {
    "execution": {
     "iopub.execute_input": "2022-12-05T07:09:08.660111Z",
     "iopub.status.busy": "2022-12-05T07:09:08.659681Z",
     "iopub.status.idle": "2022-12-05T07:09:08.670452Z",
     "shell.execute_reply": "2022-12-05T07:09:08.668765Z",
     "shell.execute_reply.started": "2022-12-05T07:09:08.660074Z"
    }
   },
   "outputs": [],
   "source": [
    "train['BUREAU_INCOME_CREDIT_RATIO'] = train['bureau_AMT_CREDIT_SUM_mean'] / train['AMT_INCOME_TOTAL']\n",
    "train['BUREAU_ACTIVE_CREDIT_TO_INCOME_RATIO'] = train['bureau_AMT_CREDIT_SUM_sum'] / train['AMT_INCOME_TOTAL']"
   ]
  },
  {
   "cell_type": "code",
   "execution_count": 55,
   "metadata": {
    "execution": {
     "iopub.execute_input": "2022-12-05T07:09:11.032654Z",
     "iopub.status.busy": "2022-12-05T07:09:11.032207Z",
     "iopub.status.idle": "2022-12-05T07:09:11.041060Z",
     "shell.execute_reply": "2022-12-05T07:09:11.039762Z",
     "shell.execute_reply.started": "2022-12-05T07:09:11.032622Z"
    }
   },
   "outputs": [],
   "source": [
    "test['BUREAU_INCOME_CREDIT_RATIO'] = test['bureau_AMT_CREDIT_SUM_mean'] / test['AMT_INCOME_TOTAL']\n",
    "test['BUREAU_ACTIVE_CREDIT_TO_INCOME_RATIO'] = test['bureau_AMT_CREDIT_SUM_sum'] / test['AMT_INCOME_TOTAL']"
   ]
  },
  {
   "cell_type": "markdown",
   "metadata": {},
   "source": [
    "## Previous to Current Credit Ratios "
   ]
  },
  {
   "cell_type": "code",
   "execution_count": 56,
   "metadata": {
    "execution": {
     "iopub.execute_input": "2022-12-05T07:09:15.832599Z",
     "iopub.status.busy": "2022-12-05T07:09:15.832189Z",
     "iopub.status.idle": "2022-12-05T07:09:15.845701Z",
     "shell.execute_reply": "2022-12-05T07:09:15.844365Z",
     "shell.execute_reply.started": "2022-12-05T07:09:15.832567Z"
    }
   },
   "outputs": [],
   "source": [
    "train['CURRENT_TO_APPROVED_CREDIT_MIN_RATIO'] = train['previous_AMT_CREDIT_min'] / train['AMT_CREDIT']\n",
    "train['CURRENT_TO_APPROVED_CREDIT_MAX_RATIO'] = train['previous_AMT_CREDIT_max'] / train['AMT_CREDIT']\n",
    "train['CURRENT_TO_APPROVED_CREDIT_MEAN_RATIO'] = train['previous_AMT_CREDIT_mean'] / train['AMT_CREDIT']"
   ]
  },
  {
   "cell_type": "code",
   "execution_count": 57,
   "metadata": {
    "execution": {
     "iopub.execute_input": "2022-12-05T07:09:19.836039Z",
     "iopub.status.busy": "2022-12-05T07:09:19.835644Z",
     "iopub.status.idle": "2022-12-05T07:09:19.848151Z",
     "shell.execute_reply": "2022-12-05T07:09:19.846876Z",
     "shell.execute_reply.started": "2022-12-05T07:09:19.836011Z"
    }
   },
   "outputs": [],
   "source": [
    "test['CURRENT_TO_APPROVED_CREDIT_MIN_RATIO'] = test['previous_AMT_CREDIT_min'] / test['AMT_CREDIT']\n",
    "test['CURRENT_TO_APPROVED_CREDIT_MAX_RATIO'] = test['previous_AMT_CREDIT_max'] / test['AMT_CREDIT']\n",
    "test['CURRENT_TO_APPROVED_CREDIT_MEAN_RATIO'] = test['previous_AMT_CREDIT_mean'] / test['AMT_CREDIT']"
   ]
  },
  {
   "cell_type": "markdown",
   "metadata": {},
   "source": [
    "## Previous to Current Annuity Ratios"
   ]
  },
  {
   "cell_type": "code",
   "execution_count": 58,
   "metadata": {
    "execution": {
     "iopub.execute_input": "2022-12-05T07:09:24.946654Z",
     "iopub.status.busy": "2022-12-05T07:09:24.946225Z",
     "iopub.status.idle": "2022-12-05T07:09:24.973657Z",
     "shell.execute_reply": "2022-12-05T07:09:24.972527Z",
     "shell.execute_reply.started": "2022-12-05T07:09:24.946624Z"
    }
   },
   "outputs": [],
   "source": [
    "train['CURRENT_TO_APPROVED_ANNUITY_MAX_RATIO'] = train['previous_AMT_ANNUITY_max'] / train['AMT_ANNUITY']\n",
    "train['CURRENT_TO_APPROVED_ANNUITY_MEAN_RATIO'] = train['previous_AMT_ANNUITY_mean'] / train['AMT_ANNUITY']"
   ]
  },
  {
   "cell_type": "code",
   "execution_count": 59,
   "metadata": {
    "execution": {
     "iopub.execute_input": "2022-12-05T07:09:29.390913Z",
     "iopub.status.busy": "2022-12-05T07:09:29.390299Z",
     "iopub.status.idle": "2022-12-05T07:09:29.407479Z",
     "shell.execute_reply": "2022-12-05T07:09:29.406232Z",
     "shell.execute_reply.started": "2022-12-05T07:09:29.390880Z"
    }
   },
   "outputs": [],
   "source": [
    "test['CURRENT_TO_APPROVED_ANNUITY_MAX_RATIO'] = test['previous_AMT_ANNUITY_max'] / test['AMT_ANNUITY']\n",
    "test['CURRENT_TO_APPROVED_ANNUITY_MEAN_RATIO'] = test['previous_AMT_ANNUITY_mean'] / test['AMT_ANNUITY']"
   ]
  },
  {
   "cell_type": "markdown",
   "metadata": {},
   "source": [
    "## Installment Payment to Annuity Ratios"
   ]
  },
  {
   "cell_type": "code",
   "execution_count": null,
   "metadata": {},
   "outputs": [],
   "source": [
    "train['PAYMENT_MIN_TO_ANNUITY_RATIO'] = train['client_installments_AMT_PAYMENT_min_mean'] / train['AMT_ANNUITY']\n",
    "train['PAYMENT_MAX_TO_ANNUITY_RATIO'] = train['client_installments_AMT_PAYMENT_max_mean'] / train['AMT_ANNUITY']\n",
    "train['PAYMENT_MEAN_TO_ANNUITY_RATIO'] = train['client_installments_AMT_PAYMENT_mean_mean'] / train['AMT_ANNUITY']"
   ]
  },
  {
   "cell_type": "code",
   "execution_count": null,
   "metadata": {},
   "outputs": [],
   "source": [
    "test['PAYMENT_MIN_TO_ANNUITY_RATIO'] = test['client_installments_AMT_PAYMENT_min_mean'] / test['AMT_ANNUITY']\n",
    "test['PAYMENT_MAX_TO_ANNUITY_RATIO'] = test['client_installments_AMT_PAYMENT_max_mean'] / test['AMT_ANNUITY']\n",
    "test['PAYMENT_MEAN_TO_ANNUITY_RATIO'] = test['client_installments_AMT_PAYMENT_mean_mean'] / test['AMT_ANNUITY']"
   ]
  },
  {
   "cell_type": "markdown",
   "metadata": {},
   "source": [
    "## New Features Based on External Sources"
   ]
  },
  {
   "cell_type": "code",
   "execution_count": 60,
   "metadata": {
    "execution": {
     "iopub.execute_input": "2022-12-05T07:09:35.917765Z",
     "iopub.status.busy": "2022-12-05T07:09:35.917386Z",
     "iopub.status.idle": "2022-12-05T07:09:35.930614Z",
     "shell.execute_reply": "2022-12-05T07:09:35.929231Z",
     "shell.execute_reply.started": "2022-12-05T07:09:35.917736Z"
    }
   },
   "outputs": [],
   "source": [
    "train['EXT_SOURCES_PROD'] = train['EXT_SOURCE_1'] * train['EXT_SOURCE_2'] * train['EXT_SOURCE_3']\n",
    "train['EXT_SOURCES_WEIGHTED'] = train.EXT_SOURCE_1 * 2 + train.EXT_SOURCE_2 * 1 + train.EXT_SOURCE_3 * 3"
   ]
  },
  {
   "cell_type": "code",
   "execution_count": 61,
   "metadata": {
    "execution": {
     "iopub.execute_input": "2022-12-05T07:09:46.579893Z",
     "iopub.status.busy": "2022-12-05T07:09:46.579257Z",
     "iopub.status.idle": "2022-12-05T07:09:46.588170Z",
     "shell.execute_reply": "2022-12-05T07:09:46.587052Z",
     "shell.execute_reply.started": "2022-12-05T07:09:46.579862Z"
    }
   },
   "outputs": [],
   "source": [
    "test['EXT_SOURCES_PROD'] = test['EXT_SOURCE_1'] * test['EXT_SOURCE_2'] * test['EXT_SOURCE_3']\n",
    "test['EXT_SOURCES_WEIGHTED'] = test.EXT_SOURCE_1 * 2 + test.EXT_SOURCE_2 * 1 + test.EXT_SOURCE_3 * 3"
   ]
  },
  {
   "cell_type": "markdown",
   "metadata": {},
   "source": [
    "## Other Ratios"
   ]
  },
  {
   "cell_type": "code",
   "execution_count": 62,
   "metadata": {
    "execution": {
     "iopub.execute_input": "2022-12-05T07:10:02.450218Z",
     "iopub.status.busy": "2022-12-05T07:10:02.449748Z",
     "iopub.status.idle": "2022-12-05T07:10:02.599855Z",
     "shell.execute_reply": "2022-12-05T07:10:02.598694Z",
     "shell.execute_reply.started": "2022-12-05T07:10:02.450181Z"
    }
   },
   "outputs": [],
   "source": [
    "train['LOAN_INCOME_RATIO'] = train['AMT_CREDIT'] / train['AMT_INCOME_TOTAL']\n",
    "train['INCOME_PER_FAM'] = train['AMT_INCOME_TOTAL'] / train['CNT_FAM_MEMBERS']\n",
    "train['CHILDREN_RATIO'] = train['CNT_CHILDREN'] / train['CNT_FAM_MEMBERS']\n",
    "train['LIMITED_USED'] = train['client_credit_AMT_BALANCE_mean_mean'] / train['client_credit_AMT_CREDIT_LIMIT_ACTUAL_mean_mean']\n",
    "train['CREDIT_CARD_CURRENT_PAYMENT'] = train['client_credit_AMT_PAYMENT_CURRENT_mean_mean'] / train['client_credit_AMT_INST_MIN_REGULARITY_mean_mean']\n",
    "train['LATE_PAYMENT'] = train['client_credit_SK_DPD_mean_mean'].apply(lambda x: 1 if x > 0 else 0)\n",
    "train['OVERPAID_AMT'] = train['client_installments_AMT_PAYMENT_mean_mean'] / train['client_installments_AMT_INSTALMENT_mean_mean']\n",
    "train['DRAWING_LIMIT_RATIO'] = train['client_credit_AMT_DRAWINGS_ATM_CURRENT_mean_mean'] / train['client_credit_AMT_CREDIT_LIMIT_ACTUAL_mean_mean']"
   ]
  },
  {
   "cell_type": "code",
   "execution_count": 63,
   "metadata": {
    "execution": {
     "iopub.execute_input": "2022-12-05T07:10:06.514587Z",
     "iopub.status.busy": "2022-12-05T07:10:06.511818Z",
     "iopub.status.idle": "2022-12-05T07:10:06.553654Z",
     "shell.execute_reply": "2022-12-05T07:10:06.552540Z",
     "shell.execute_reply.started": "2022-12-05T07:10:06.514544Z"
    }
   },
   "outputs": [],
   "source": [
    "test['LOAN_INCOME_RATIO'] = test['AMT_CREDIT'] / test['AMT_INCOME_TOTAL']\n",
    "test['INCOME_PER_FAM'] = test['AMT_INCOME_TOTAL'] / test['CNT_FAM_MEMBERS']\n",
    "test['CHILDREN_RATIO'] = test['CNT_CHILDREN'] / test['CNT_FAM_MEMBERS']\n",
    "test['LIMITED_USED'] = test['client_credit_AMT_BALANCE_mean_mean'] / test['client_credit_AMT_CREDIT_LIMIT_ACTUAL_mean_mean']\n",
    "test['CREDIT_CARD_CURRENT_PAYMENT'] = test['client_credit_AMT_PAYMENT_CURRENT_mean_mean'] / test['client_credit_AMT_INST_MIN_REGULARITY_mean_mean']\n",
    "test['LATE_PAYMENT'] = test['client_credit_SK_DPD_mean_mean'].apply(lambda x: 1 if x > 0 else 0)\n",
    "test['OVERPAID_AMT'] = test['client_installments_AMT_PAYMENT_mean_mean'] / test['client_installments_AMT_INSTALMENT_mean_mean']\n",
    "test['DRAWING_LIMIT_RATIO'] = test['client_credit_AMT_DRAWINGS_ATM_CURRENT_mean_mean'] / test['client_credit_AMT_CREDIT_LIMIT_ACTUAL_mean_mean']"
   ]
  },
  {
   "cell_type": "code",
   "execution_count": 64,
   "metadata": {
    "execution": {
     "iopub.execute_input": "2022-12-05T07:10:10.721828Z",
     "iopub.status.busy": "2022-12-05T07:10:10.720940Z",
     "iopub.status.idle": "2022-12-05T07:10:10.727731Z",
     "shell.execute_reply": "2022-12-05T07:10:10.726580Z",
     "shell.execute_reply.started": "2022-12-05T07:10:10.721788Z"
    }
   },
   "outputs": [
    {
     "name": "stdout",
     "output_type": "stream",
     "text": [
      "Training shape:  (307511, 1498)\n",
      "Testing shape:  (48744, 1497)\n"
     ]
    }
   ],
   "source": [
    "print('Training shape: ', train.shape)\n",
    "print('Testing shape: ', test.shape)"
   ]
  },
  {
   "cell_type": "markdown",
   "metadata": {},
   "source": [
    "## Dataset Before Removing any Features"
   ]
  },
  {
   "cell_type": "code",
   "execution_count": 21,
   "metadata": {
    "execution": {
     "iopub.execute_input": "2022-12-05T05:10:49.297001Z",
     "iopub.status.busy": "2022-12-05T05:10:49.296559Z",
     "iopub.status.idle": "2022-12-05T05:16:48.689585Z",
     "shell.execute_reply": "2022-12-05T05:16:48.687352Z",
     "shell.execute_reply.started": "2022-12-05T05:10:49.296951Z"
    }
   },
   "outputs": [],
   "source": [
    "train.to_csv('train_with_ratios.csv', index = False)\n",
    "test.to_csv('test_with_ratios.csv', index = False)"
   ]
  },
  {
   "cell_type": "markdown",
   "metadata": {},
   "source": [
    "# PART 2: Feature Selection"
   ]
  },
  {
   "cell_type": "markdown",
   "metadata": {},
   "source": [
    "## Removal of collinear variables"
   ]
  },
  {
   "cell_type": "code",
   "execution_count": 65,
   "metadata": {
    "execution": {
     "iopub.execute_input": "2022-12-05T07:10:22.166230Z",
     "iopub.status.busy": "2022-12-05T07:10:22.165799Z",
     "iopub.status.idle": "2022-12-05T07:41:15.712338Z",
     "shell.execute_reply": "2022-12-05T07:41:15.711034Z",
     "shell.execute_reply.started": "2022-12-05T07:10:22.166196Z"
    }
   },
   "outputs": [
    {
     "data": {
      "text/html": [
       "<div>\n",
       "<style scoped>\n",
       "    .dataframe tbody tr th:only-of-type {\n",
       "        vertical-align: middle;\n",
       "    }\n",
       "\n",
       "    .dataframe tbody tr th {\n",
       "        vertical-align: top;\n",
       "    }\n",
       "\n",
       "    .dataframe thead th {\n",
       "        text-align: right;\n",
       "    }\n",
       "</style>\n",
       "<table border=\"1\" class=\"dataframe\">\n",
       "  <thead>\n",
       "    <tr style=\"text-align: right;\">\n",
       "      <th></th>\n",
       "      <th>SK_ID_CURR</th>\n",
       "      <th>CNT_CHILDREN</th>\n",
       "      <th>AMT_INCOME_TOTAL</th>\n",
       "      <th>AMT_CREDIT</th>\n",
       "      <th>AMT_ANNUITY</th>\n",
       "      <th>AMT_GOODS_PRICE</th>\n",
       "      <th>REGION_POPULATION_RELATIVE</th>\n",
       "      <th>DAYS_BIRTH</th>\n",
       "      <th>DAYS_EMPLOYED</th>\n",
       "      <th>DAYS_REGISTRATION</th>\n",
       "      <th>...</th>\n",
       "      <th>EXT_SOURCES_PROD</th>\n",
       "      <th>EXT_SOURCES_WEIGHTED</th>\n",
       "      <th>LOAN_INCOME_RATIO</th>\n",
       "      <th>INCOME_PER_FAM</th>\n",
       "      <th>CHILDREN_RATIO</th>\n",
       "      <th>LIMITED_USED</th>\n",
       "      <th>CREDIT_CARD_CURRENT_PAYMENT</th>\n",
       "      <th>LATE_PAYMENT</th>\n",
       "      <th>OVERPAID_AMT</th>\n",
       "      <th>DRAWING_LIMIT_RATIO</th>\n",
       "    </tr>\n",
       "  </thead>\n",
       "  <tbody>\n",
       "    <tr>\n",
       "      <th>SK_ID_CURR</th>\n",
       "      <td>1.000000</td>\n",
       "      <td>0.001129</td>\n",
       "      <td>0.001820</td>\n",
       "      <td>0.000343</td>\n",
       "      <td>0.000433</td>\n",
       "      <td>0.000232</td>\n",
       "      <td>0.000849</td>\n",
       "      <td>0.001500</td>\n",
       "      <td>0.001366</td>\n",
       "      <td>0.000973</td>\n",
       "      <td>...</td>\n",
       "      <td>0.003194</td>\n",
       "      <td>0.003589</td>\n",
       "      <td>0.001726</td>\n",
       "      <td>0.000199</td>\n",
       "      <td>0.000299</td>\n",
       "      <td>0.002357</td>\n",
       "      <td>0.006960</td>\n",
       "      <td>0.002274</td>\n",
       "      <td>0.001113</td>\n",
       "      <td>0.001112</td>\n",
       "    </tr>\n",
       "    <tr>\n",
       "      <th>CNT_CHILDREN</th>\n",
       "      <td>0.001129</td>\n",
       "      <td>1.000000</td>\n",
       "      <td>0.012882</td>\n",
       "      <td>0.002145</td>\n",
       "      <td>0.021374</td>\n",
       "      <td>0.001827</td>\n",
       "      <td>0.025573</td>\n",
       "      <td>0.330938</td>\n",
       "      <td>0.239818</td>\n",
       "      <td>0.183395</td>\n",
       "      <td>...</td>\n",
       "      <td>0.106783</td>\n",
       "      <td>0.090967</td>\n",
       "      <td>0.016012</td>\n",
       "      <td>0.231734</td>\n",
       "      <td>0.951270</td>\n",
       "      <td>0.013510</td>\n",
       "      <td>0.009647</td>\n",
       "      <td>0.009019</td>\n",
       "      <td>0.022307</td>\n",
       "      <td>0.003467</td>\n",
       "    </tr>\n",
       "    <tr>\n",
       "      <th>AMT_INCOME_TOTAL</th>\n",
       "      <td>0.001820</td>\n",
       "      <td>0.012882</td>\n",
       "      <td>1.000000</td>\n",
       "      <td>0.156870</td>\n",
       "      <td>0.191657</td>\n",
       "      <td>0.159610</td>\n",
       "      <td>0.074796</td>\n",
       "      <td>0.027261</td>\n",
       "      <td>0.064223</td>\n",
       "      <td>0.027805</td>\n",
       "      <td>...</td>\n",
       "      <td>0.015656</td>\n",
       "      <td>0.002517</td>\n",
       "      <td>0.108191</td>\n",
       "      <td>0.861814</td>\n",
       "      <td>0.014411</td>\n",
       "      <td>0.003392</td>\n",
       "      <td>0.001850</td>\n",
       "      <td>0.007329</td>\n",
       "      <td>0.020376</td>\n",
       "      <td>0.022858</td>\n",
       "    </tr>\n",
       "    <tr>\n",
       "      <th>AMT_CREDIT</th>\n",
       "      <td>0.000343</td>\n",
       "      <td>0.002145</td>\n",
       "      <td>0.156870</td>\n",
       "      <td>1.000000</td>\n",
       "      <td>0.770138</td>\n",
       "      <td>0.986968</td>\n",
       "      <td>0.099738</td>\n",
       "      <td>0.055436</td>\n",
       "      <td>0.066838</td>\n",
       "      <td>0.009621</td>\n",
       "      <td>...</td>\n",
       "      <td>0.158114</td>\n",
       "      <td>0.144295</td>\n",
       "      <td>0.651097</td>\n",
       "      <td>0.162090</td>\n",
       "      <td>0.005653</td>\n",
       "      <td>0.064700</td>\n",
       "      <td>0.001022</td>\n",
       "      <td>0.035956</td>\n",
       "      <td>0.061503</td>\n",
       "      <td>0.040081</td>\n",
       "    </tr>\n",
       "    <tr>\n",
       "      <th>AMT_ANNUITY</th>\n",
       "      <td>0.000433</td>\n",
       "      <td>0.021374</td>\n",
       "      <td>0.191657</td>\n",
       "      <td>0.770138</td>\n",
       "      <td>1.000000</td>\n",
       "      <td>0.775109</td>\n",
       "      <td>0.118429</td>\n",
       "      <td>0.009445</td>\n",
       "      <td>0.104332</td>\n",
       "      <td>0.038514</td>\n",
       "      <td>...</td>\n",
       "      <td>0.127778</td>\n",
       "      <td>0.108028</td>\n",
       "      <td>0.393239</td>\n",
       "      <td>0.205128</td>\n",
       "      <td>0.014384</td>\n",
       "      <td>0.066658</td>\n",
       "      <td>0.001551</td>\n",
       "      <td>0.018607</td>\n",
       "      <td>0.038236</td>\n",
       "      <td>0.038246</td>\n",
       "    </tr>\n",
       "  </tbody>\n",
       "</table>\n",
       "<p>5 rows × 1498 columns</p>\n",
       "</div>"
      ],
      "text/plain": [
       "                  SK_ID_CURR  CNT_CHILDREN  AMT_INCOME_TOTAL  AMT_CREDIT  \\\n",
       "SK_ID_CURR          1.000000      0.001129          0.001820    0.000343   \n",
       "CNT_CHILDREN        0.001129      1.000000          0.012882    0.002145   \n",
       "AMT_INCOME_TOTAL    0.001820      0.012882          1.000000    0.156870   \n",
       "AMT_CREDIT          0.000343      0.002145          0.156870    1.000000   \n",
       "AMT_ANNUITY         0.000433      0.021374          0.191657    0.770138   \n",
       "\n",
       "                  AMT_ANNUITY  AMT_GOODS_PRICE  REGION_POPULATION_RELATIVE  \\\n",
       "SK_ID_CURR           0.000433         0.000232                    0.000849   \n",
       "CNT_CHILDREN         0.021374         0.001827                    0.025573   \n",
       "AMT_INCOME_TOTAL     0.191657         0.159610                    0.074796   \n",
       "AMT_CREDIT           0.770138         0.986968                    0.099738   \n",
       "AMT_ANNUITY          1.000000         0.775109                    0.118429   \n",
       "\n",
       "                  DAYS_BIRTH  DAYS_EMPLOYED  DAYS_REGISTRATION  ...  \\\n",
       "SK_ID_CURR          0.001500       0.001366           0.000973  ...   \n",
       "CNT_CHILDREN        0.330938       0.239818           0.183395  ...   \n",
       "AMT_INCOME_TOTAL    0.027261       0.064223           0.027805  ...   \n",
       "AMT_CREDIT          0.055436       0.066838           0.009621  ...   \n",
       "AMT_ANNUITY         0.009445       0.104332           0.038514  ...   \n",
       "\n",
       "                  EXT_SOURCES_PROD  EXT_SOURCES_WEIGHTED  LOAN_INCOME_RATIO  \\\n",
       "SK_ID_CURR                0.003194              0.003589           0.001726   \n",
       "CNT_CHILDREN              0.106783              0.090967           0.016012   \n",
       "AMT_INCOME_TOTAL          0.015656              0.002517           0.108191   \n",
       "AMT_CREDIT                0.158114              0.144295           0.651097   \n",
       "AMT_ANNUITY               0.127778              0.108028           0.393239   \n",
       "\n",
       "                  INCOME_PER_FAM  CHILDREN_RATIO  LIMITED_USED  \\\n",
       "SK_ID_CURR              0.000199        0.000299      0.002357   \n",
       "CNT_CHILDREN            0.231734        0.951270      0.013510   \n",
       "AMT_INCOME_TOTAL        0.861814        0.014411      0.003392   \n",
       "AMT_CREDIT              0.162090        0.005653      0.064700   \n",
       "AMT_ANNUITY             0.205128        0.014384      0.066658   \n",
       "\n",
       "                  CREDIT_CARD_CURRENT_PAYMENT  LATE_PAYMENT  OVERPAID_AMT  \\\n",
       "SK_ID_CURR                           0.006960      0.002274      0.001113   \n",
       "CNT_CHILDREN                         0.009647      0.009019      0.022307   \n",
       "AMT_INCOME_TOTAL                     0.001850      0.007329      0.020376   \n",
       "AMT_CREDIT                           0.001022      0.035956      0.061503   \n",
       "AMT_ANNUITY                          0.001551      0.018607      0.038236   \n",
       "\n",
       "                  DRAWING_LIMIT_RATIO  \n",
       "SK_ID_CURR                   0.001112  \n",
       "CNT_CHILDREN                 0.003467  \n",
       "AMT_INCOME_TOTAL             0.022858  \n",
       "AMT_CREDIT                   0.040081  \n",
       "AMT_ANNUITY                  0.038246  \n",
       "\n",
       "[5 rows x 1498 columns]"
      ]
     },
     "execution_count": 65,
     "metadata": {},
     "output_type": "execute_result"
    }
   ],
   "source": [
    "# Threshold for removing correlated variables\n",
    "threshold = 0.9\n",
    "\n",
    "# Absolute value correlation matrix\n",
    "corr_matrix = train.corr().abs()\n",
    "corr_matrix.head()"
   ]
  },
  {
   "cell_type": "code",
   "execution_count": 66,
   "metadata": {
    "execution": {
     "iopub.execute_input": "2022-12-05T07:41:15.715645Z",
     "iopub.status.busy": "2022-12-05T07:41:15.714925Z",
     "iopub.status.idle": "2022-12-05T07:41:15.782850Z",
     "shell.execute_reply": "2022-12-05T07:41:15.781541Z",
     "shell.execute_reply.started": "2022-12-05T07:41:15.715586Z"
    }
   },
   "outputs": [
    {
     "data": {
      "text/html": [
       "<div>\n",
       "<style scoped>\n",
       "    .dataframe tbody tr th:only-of-type {\n",
       "        vertical-align: middle;\n",
       "    }\n",
       "\n",
       "    .dataframe tbody tr th {\n",
       "        vertical-align: top;\n",
       "    }\n",
       "\n",
       "    .dataframe thead th {\n",
       "        text-align: right;\n",
       "    }\n",
       "</style>\n",
       "<table border=\"1\" class=\"dataframe\">\n",
       "  <thead>\n",
       "    <tr style=\"text-align: right;\">\n",
       "      <th></th>\n",
       "      <th>SK_ID_CURR</th>\n",
       "      <th>CNT_CHILDREN</th>\n",
       "      <th>AMT_INCOME_TOTAL</th>\n",
       "      <th>AMT_CREDIT</th>\n",
       "      <th>AMT_ANNUITY</th>\n",
       "      <th>AMT_GOODS_PRICE</th>\n",
       "      <th>REGION_POPULATION_RELATIVE</th>\n",
       "      <th>DAYS_BIRTH</th>\n",
       "      <th>DAYS_EMPLOYED</th>\n",
       "      <th>DAYS_REGISTRATION</th>\n",
       "      <th>...</th>\n",
       "      <th>EXT_SOURCES_PROD</th>\n",
       "      <th>EXT_SOURCES_WEIGHTED</th>\n",
       "      <th>LOAN_INCOME_RATIO</th>\n",
       "      <th>INCOME_PER_FAM</th>\n",
       "      <th>CHILDREN_RATIO</th>\n",
       "      <th>LIMITED_USED</th>\n",
       "      <th>CREDIT_CARD_CURRENT_PAYMENT</th>\n",
       "      <th>LATE_PAYMENT</th>\n",
       "      <th>OVERPAID_AMT</th>\n",
       "      <th>DRAWING_LIMIT_RATIO</th>\n",
       "    </tr>\n",
       "  </thead>\n",
       "  <tbody>\n",
       "    <tr>\n",
       "      <th>SK_ID_CURR</th>\n",
       "      <td>NaN</td>\n",
       "      <td>0.001129</td>\n",
       "      <td>0.001820</td>\n",
       "      <td>0.000343</td>\n",
       "      <td>0.000433</td>\n",
       "      <td>0.000232</td>\n",
       "      <td>0.000849</td>\n",
       "      <td>0.001500</td>\n",
       "      <td>0.001366</td>\n",
       "      <td>0.000973</td>\n",
       "      <td>...</td>\n",
       "      <td>0.003194</td>\n",
       "      <td>0.003589</td>\n",
       "      <td>0.001726</td>\n",
       "      <td>0.000199</td>\n",
       "      <td>0.000299</td>\n",
       "      <td>0.002357</td>\n",
       "      <td>0.006960</td>\n",
       "      <td>0.002274</td>\n",
       "      <td>0.001113</td>\n",
       "      <td>0.001112</td>\n",
       "    </tr>\n",
       "    <tr>\n",
       "      <th>CNT_CHILDREN</th>\n",
       "      <td>NaN</td>\n",
       "      <td>NaN</td>\n",
       "      <td>0.012882</td>\n",
       "      <td>0.002145</td>\n",
       "      <td>0.021374</td>\n",
       "      <td>0.001827</td>\n",
       "      <td>0.025573</td>\n",
       "      <td>0.330938</td>\n",
       "      <td>0.239818</td>\n",
       "      <td>0.183395</td>\n",
       "      <td>...</td>\n",
       "      <td>0.106783</td>\n",
       "      <td>0.090967</td>\n",
       "      <td>0.016012</td>\n",
       "      <td>0.231734</td>\n",
       "      <td>0.951270</td>\n",
       "      <td>0.013510</td>\n",
       "      <td>0.009647</td>\n",
       "      <td>0.009019</td>\n",
       "      <td>0.022307</td>\n",
       "      <td>0.003467</td>\n",
       "    </tr>\n",
       "    <tr>\n",
       "      <th>AMT_INCOME_TOTAL</th>\n",
       "      <td>NaN</td>\n",
       "      <td>NaN</td>\n",
       "      <td>NaN</td>\n",
       "      <td>0.156870</td>\n",
       "      <td>0.191657</td>\n",
       "      <td>0.159610</td>\n",
       "      <td>0.074796</td>\n",
       "      <td>0.027261</td>\n",
       "      <td>0.064223</td>\n",
       "      <td>0.027805</td>\n",
       "      <td>...</td>\n",
       "      <td>0.015656</td>\n",
       "      <td>0.002517</td>\n",
       "      <td>0.108191</td>\n",
       "      <td>0.861814</td>\n",
       "      <td>0.014411</td>\n",
       "      <td>0.003392</td>\n",
       "      <td>0.001850</td>\n",
       "      <td>0.007329</td>\n",
       "      <td>0.020376</td>\n",
       "      <td>0.022858</td>\n",
       "    </tr>\n",
       "    <tr>\n",
       "      <th>AMT_CREDIT</th>\n",
       "      <td>NaN</td>\n",
       "      <td>NaN</td>\n",
       "      <td>NaN</td>\n",
       "      <td>NaN</td>\n",
       "      <td>0.770138</td>\n",
       "      <td>0.986968</td>\n",
       "      <td>0.099738</td>\n",
       "      <td>0.055436</td>\n",
       "      <td>0.066838</td>\n",
       "      <td>0.009621</td>\n",
       "      <td>...</td>\n",
       "      <td>0.158114</td>\n",
       "      <td>0.144295</td>\n",
       "      <td>0.651097</td>\n",
       "      <td>0.162090</td>\n",
       "      <td>0.005653</td>\n",
       "      <td>0.064700</td>\n",
       "      <td>0.001022</td>\n",
       "      <td>0.035956</td>\n",
       "      <td>0.061503</td>\n",
       "      <td>0.040081</td>\n",
       "    </tr>\n",
       "    <tr>\n",
       "      <th>AMT_ANNUITY</th>\n",
       "      <td>NaN</td>\n",
       "      <td>NaN</td>\n",
       "      <td>NaN</td>\n",
       "      <td>NaN</td>\n",
       "      <td>NaN</td>\n",
       "      <td>0.775109</td>\n",
       "      <td>0.118429</td>\n",
       "      <td>0.009445</td>\n",
       "      <td>0.104332</td>\n",
       "      <td>0.038514</td>\n",
       "      <td>...</td>\n",
       "      <td>0.127778</td>\n",
       "      <td>0.108028</td>\n",
       "      <td>0.393239</td>\n",
       "      <td>0.205128</td>\n",
       "      <td>0.014384</td>\n",
       "      <td>0.066658</td>\n",
       "      <td>0.001551</td>\n",
       "      <td>0.018607</td>\n",
       "      <td>0.038236</td>\n",
       "      <td>0.038246</td>\n",
       "    </tr>\n",
       "  </tbody>\n",
       "</table>\n",
       "<p>5 rows × 1498 columns</p>\n",
       "</div>"
      ],
      "text/plain": [
       "                  SK_ID_CURR  CNT_CHILDREN  AMT_INCOME_TOTAL  AMT_CREDIT  \\\n",
       "SK_ID_CURR               NaN      0.001129          0.001820    0.000343   \n",
       "CNT_CHILDREN             NaN           NaN          0.012882    0.002145   \n",
       "AMT_INCOME_TOTAL         NaN           NaN               NaN    0.156870   \n",
       "AMT_CREDIT               NaN           NaN               NaN         NaN   \n",
       "AMT_ANNUITY              NaN           NaN               NaN         NaN   \n",
       "\n",
       "                  AMT_ANNUITY  AMT_GOODS_PRICE  REGION_POPULATION_RELATIVE  \\\n",
       "SK_ID_CURR           0.000433         0.000232                    0.000849   \n",
       "CNT_CHILDREN         0.021374         0.001827                    0.025573   \n",
       "AMT_INCOME_TOTAL     0.191657         0.159610                    0.074796   \n",
       "AMT_CREDIT           0.770138         0.986968                    0.099738   \n",
       "AMT_ANNUITY               NaN         0.775109                    0.118429   \n",
       "\n",
       "                  DAYS_BIRTH  DAYS_EMPLOYED  DAYS_REGISTRATION  ...  \\\n",
       "SK_ID_CURR          0.001500       0.001366           0.000973  ...   \n",
       "CNT_CHILDREN        0.330938       0.239818           0.183395  ...   \n",
       "AMT_INCOME_TOTAL    0.027261       0.064223           0.027805  ...   \n",
       "AMT_CREDIT          0.055436       0.066838           0.009621  ...   \n",
       "AMT_ANNUITY         0.009445       0.104332           0.038514  ...   \n",
       "\n",
       "                  EXT_SOURCES_PROD  EXT_SOURCES_WEIGHTED  LOAN_INCOME_RATIO  \\\n",
       "SK_ID_CURR                0.003194              0.003589           0.001726   \n",
       "CNT_CHILDREN              0.106783              0.090967           0.016012   \n",
       "AMT_INCOME_TOTAL          0.015656              0.002517           0.108191   \n",
       "AMT_CREDIT                0.158114              0.144295           0.651097   \n",
       "AMT_ANNUITY               0.127778              0.108028           0.393239   \n",
       "\n",
       "                  INCOME_PER_FAM  CHILDREN_RATIO  LIMITED_USED  \\\n",
       "SK_ID_CURR              0.000199        0.000299      0.002357   \n",
       "CNT_CHILDREN            0.231734        0.951270      0.013510   \n",
       "AMT_INCOME_TOTAL        0.861814        0.014411      0.003392   \n",
       "AMT_CREDIT              0.162090        0.005653      0.064700   \n",
       "AMT_ANNUITY             0.205128        0.014384      0.066658   \n",
       "\n",
       "                  CREDIT_CARD_CURRENT_PAYMENT  LATE_PAYMENT  OVERPAID_AMT  \\\n",
       "SK_ID_CURR                           0.006960      0.002274      0.001113   \n",
       "CNT_CHILDREN                         0.009647      0.009019      0.022307   \n",
       "AMT_INCOME_TOTAL                     0.001850      0.007329      0.020376   \n",
       "AMT_CREDIT                           0.001022      0.035956      0.061503   \n",
       "AMT_ANNUITY                          0.001551      0.018607      0.038236   \n",
       "\n",
       "                  DRAWING_LIMIT_RATIO  \n",
       "SK_ID_CURR                   0.001112  \n",
       "CNT_CHILDREN                 0.003467  \n",
       "AMT_INCOME_TOTAL             0.022858  \n",
       "AMT_CREDIT                   0.040081  \n",
       "AMT_ANNUITY                  0.038246  \n",
       "\n",
       "[5 rows x 1498 columns]"
      ]
     },
     "execution_count": 66,
     "metadata": {},
     "output_type": "execute_result"
    }
   ],
   "source": [
    "# Upper triangle of correlations\n",
    "upper = corr_matrix.where(np.triu(np.ones(corr_matrix.shape), k=1).astype(np.bool))\n",
    "upper.head()"
   ]
  },
  {
   "cell_type": "code",
   "execution_count": 67,
   "metadata": {
    "execution": {
     "iopub.execute_input": "2022-12-05T07:41:15.784634Z",
     "iopub.status.busy": "2022-12-05T07:41:15.784296Z",
     "iopub.status.idle": "2022-12-05T07:41:16.608537Z",
     "shell.execute_reply": "2022-12-05T07:41:16.607314Z",
     "shell.execute_reply.started": "2022-12-05T07:41:15.784604Z"
    }
   },
   "outputs": [
    {
     "name": "stdout",
     "output_type": "stream",
     "text": [
      "There are 610 columns to remove.\n"
     ]
    }
   ],
   "source": [
    "# Select columns with correlations above threshold\n",
    "to_drop = [column for column in upper.columns if any(upper[column] > threshold)]\n",
    "\n",
    "print('There are %d columns to remove.' % (len(to_drop)))"
   ]
  },
  {
   "cell_type": "code",
   "execution_count": 68,
   "metadata": {
    "execution": {
     "iopub.execute_input": "2022-12-05T07:41:16.612017Z",
     "iopub.status.busy": "2022-12-05T07:41:16.611217Z",
     "iopub.status.idle": "2022-12-05T07:41:20.163841Z",
     "shell.execute_reply": "2022-12-05T07:41:20.162600Z",
     "shell.execute_reply.started": "2022-12-05T07:41:16.611972Z"
    }
   },
   "outputs": [
    {
     "name": "stdout",
     "output_type": "stream",
     "text": [
      "Training shape:  (307511, 888)\n",
      "Testing shape:  (48744, 887)\n"
     ]
    }
   ],
   "source": [
    "train = train.drop(columns = to_drop)\n",
    "test = test.drop(columns = to_drop)\n",
    "\n",
    "print('Training shape: ', train.shape)\n",
    "print('Testing shape: ', test.shape)"
   ]
  },
  {
   "cell_type": "code",
   "execution_count": null,
   "metadata": {},
   "outputs": [],
   "source": [
    "train.to_csv('train_removed_collinear.csv', index = False)\n",
    "test.to_csv('test_removed_collinear.csv', index = False)"
   ]
  },
  {
   "cell_type": "markdown",
   "metadata": {},
   "source": [
    "## Feature selection through feature importances."
   ]
  },
  {
   "cell_type": "code",
   "execution_count": 3,
   "metadata": {
    "execution": {
     "iopub.execute_input": "2022-12-05T07:56:04.713760Z",
     "iopub.status.busy": "2022-12-05T07:56:04.713239Z",
     "iopub.status.idle": "2022-12-05T07:57:16.053329Z",
     "shell.execute_reply": "2022-12-05T07:57:16.052096Z",
     "shell.execute_reply.started": "2022-12-05T07:56:04.713714Z"
    }
   },
   "outputs": [],
   "source": [
    "train = pd.read_csv(\"/kaggle/input/data-collinearity-removed/train_removed_collinear.csv\")\n",
    "test = pd.read_csv(\"/kaggle/input/data-collinearity-removed/test_removed_collinear.csv\")"
   ]
  },
  {
   "cell_type": "code",
   "execution_count": 5,
   "metadata": {
    "execution": {
     "iopub.execute_input": "2022-12-05T07:57:16.076023Z",
     "iopub.status.busy": "2022-12-05T07:57:16.075611Z",
     "iopub.status.idle": "2022-12-05T07:57:16.084244Z",
     "shell.execute_reply": "2022-12-05T07:57:16.082812Z",
     "shell.execute_reply.started": "2022-12-05T07:57:16.075966Z"
    }
   },
   "outputs": [],
   "source": [
    "target_labels = train[[\"SK_ID_CURR\",\"TARGET\"]]\n",
    "train_labels = train[\"TARGET\"]\n",
    "train_ids = train['SK_ID_CURR']\n",
    "test_ids = test['SK_ID_CURR']"
   ]
  },
  {
   "cell_type": "code",
   "execution_count": 6,
   "metadata": {
    "execution": {
     "iopub.execute_input": "2022-12-05T07:57:18.546585Z",
     "iopub.status.busy": "2022-12-05T07:57:18.546088Z",
     "iopub.status.idle": "2022-12-05T07:57:23.192136Z",
     "shell.execute_reply": "2022-12-05T07:57:23.190741Z",
     "shell.execute_reply.started": "2022-12-05T07:57:18.546536Z"
    }
   },
   "outputs": [
    {
     "name": "stdout",
     "output_type": "stream",
     "text": [
      "Training set full shape:  (307511, 887)\n",
      "Testing set full shape:  (48744, 887)\n"
     ]
    }
   ],
   "source": [
    "train = pd.get_dummies(train)\n",
    "test = pd.get_dummies(test)\n",
    "train, test = train.align(test, join = 'inner', axis = 1)\n",
    "print('Training set full shape: ', train.shape)\n",
    "print('Testing set full shape: ' , test.shape)"
   ]
  },
  {
   "cell_type": "code",
   "execution_count": 7,
   "metadata": {
    "execution": {
     "iopub.execute_input": "2022-12-05T07:57:36.470170Z",
     "iopub.status.busy": "2022-12-05T07:57:36.469716Z",
     "iopub.status.idle": "2022-12-05T07:57:37.313084Z",
     "shell.execute_reply": "2022-12-05T07:57:37.311726Z",
     "shell.execute_reply.started": "2022-12-05T07:57:36.470134Z"
    }
   },
   "outputs": [],
   "source": [
    "train = train.drop(columns = ['SK_ID_CURR'])\n",
    "test = test.drop(columns = ['SK_ID_CURR'])"
   ]
  },
  {
   "cell_type": "code",
   "execution_count": 8,
   "metadata": {
    "execution": {
     "iopub.execute_input": "2022-12-05T07:57:44.855710Z",
     "iopub.status.busy": "2022-12-05T07:57:44.855247Z",
     "iopub.status.idle": "2022-12-05T07:57:45.983773Z",
     "shell.execute_reply": "2022-12-05T07:57:45.982217Z",
     "shell.execute_reply.started": "2022-12-05T07:57:44.855672Z"
    }
   },
   "outputs": [],
   "source": [
    "import re\n",
    "train = train.rename(columns = lambda x:re.sub('[^A-Za-z0-9_]+', '', x))\n",
    "test = test.rename(columns = lambda x:re.sub('[^A-Za-z0-9_]+', '', x))"
   ]
  },
  {
   "cell_type": "code",
   "execution_count": 9,
   "metadata": {
    "execution": {
     "iopub.execute_input": "2022-12-05T07:57:52.405309Z",
     "iopub.status.busy": "2022-12-05T07:57:52.404817Z",
     "iopub.status.idle": "2022-12-05T07:57:52.412191Z",
     "shell.execute_reply": "2022-12-05T07:57:52.410749Z",
     "shell.execute_reply.started": "2022-12-05T07:57:52.405273Z"
    }
   },
   "outputs": [],
   "source": [
    "# Initialize an empty array to hold feature importances\n",
    "feature_importances = np.zeros(train.shape[1])\n",
    "\n",
    "# Create the model with several hyperparameters\n",
    "model = lgb.LGBMClassifier(objective='binary', boosting_type = 'goss', n_estimators = 10000, class_weight = 'balanced')"
   ]
  },
  {
   "cell_type": "code",
   "execution_count": 10,
   "metadata": {
    "execution": {
     "iopub.execute_input": "2022-12-05T07:57:54.978324Z",
     "iopub.status.busy": "2022-12-05T07:57:54.977878Z",
     "iopub.status.idle": "2022-12-05T08:01:09.088489Z",
     "shell.execute_reply": "2022-12-05T08:01:09.087431Z",
     "shell.execute_reply.started": "2022-12-05T07:57:54.978288Z"
    }
   },
   "outputs": [
    {
     "name": "stdout",
     "output_type": "stream",
     "text": [
      "[200]\tvalid_0's auc: 0.786604\tvalid_0's binary_logloss: 0.502799\n",
      "[200]\tvalid_0's auc: 0.787542\tvalid_0's binary_logloss: 0.503299\n"
     ]
    }
   ],
   "source": [
    "# Fit the model twice to avoid overfitting\n",
    "for i in range(2):\n",
    "    \n",
    "    # Split into training and validation set\n",
    "    train_features, valid_features, train_y, valid_y = train_test_split(train, train_labels, test_size = 0.25, random_state = i)\n",
    "    \n",
    "    # Train using early stopping\n",
    "    model.fit(train_features, train_y, early_stopping_rounds=100, eval_set = [(valid_features, valid_y)], \n",
    "              eval_metric = 'auc', verbose = 200)\n",
    "    \n",
    "    # Record the feature importances\n",
    "    feature_importances += model.feature_importances_"
   ]
  },
  {
   "cell_type": "code",
   "execution_count": 11,
   "metadata": {
    "execution": {
     "iopub.execute_input": "2022-12-05T08:01:56.587973Z",
     "iopub.status.busy": "2022-12-05T08:01:56.587460Z",
     "iopub.status.idle": "2022-12-05T08:01:56.609462Z",
     "shell.execute_reply": "2022-12-05T08:01:56.608531Z",
     "shell.execute_reply.started": "2022-12-05T08:01:56.587934Z"
    }
   },
   "outputs": [
    {
     "data": {
      "text/html": [
       "<div>\n",
       "<style scoped>\n",
       "    .dataframe tbody tr th:only-of-type {\n",
       "        vertical-align: middle;\n",
       "    }\n",
       "\n",
       "    .dataframe tbody tr th {\n",
       "        vertical-align: top;\n",
       "    }\n",
       "\n",
       "    .dataframe thead th {\n",
       "        text-align: right;\n",
       "    }\n",
       "</style>\n",
       "<table border=\"1\" class=\"dataframe\">\n",
       "  <thead>\n",
       "    <tr style=\"text-align: right;\">\n",
       "      <th></th>\n",
       "      <th>feature</th>\n",
       "      <th>importance</th>\n",
       "    </tr>\n",
       "  </thead>\n",
       "  <tbody>\n",
       "    <tr>\n",
       "      <th>857</th>\n",
       "      <td>CREDIT_TO_ANNUITY_RATIO</td>\n",
       "      <td>126.0</td>\n",
       "    </tr>\n",
       "    <tr>\n",
       "      <th>25</th>\n",
       "      <td>EXT_SOURCE_2</td>\n",
       "      <td>115.0</td>\n",
       "    </tr>\n",
       "    <tr>\n",
       "      <th>24</th>\n",
       "      <td>EXT_SOURCE_1</td>\n",
       "      <td>110.5</td>\n",
       "    </tr>\n",
       "    <tr>\n",
       "      <th>26</th>\n",
       "      <td>EXT_SOURCE_3</td>\n",
       "      <td>95.0</td>\n",
       "    </tr>\n",
       "    <tr>\n",
       "      <th>5</th>\n",
       "      <td>DAYS_BIRTH</td>\n",
       "      <td>74.0</td>\n",
       "    </tr>\n",
       "  </tbody>\n",
       "</table>\n",
       "</div>"
      ],
      "text/plain": [
       "                     feature  importance\n",
       "857  CREDIT_TO_ANNUITY_RATIO       126.0\n",
       "25              EXT_SOURCE_2       115.0\n",
       "24              EXT_SOURCE_1       110.5\n",
       "26              EXT_SOURCE_3        95.0\n",
       "5                 DAYS_BIRTH        74.0"
      ]
     },
     "execution_count": 11,
     "metadata": {},
     "output_type": "execute_result"
    }
   ],
   "source": [
    "# Make sure to average feature importances! \n",
    "feature_importances = feature_importances / 2\n",
    "feature_importances = pd.DataFrame({'feature': list(train.columns), 'importance': feature_importances}).sort_values('importance', ascending = False)\n",
    "\n",
    "feature_importances.head()"
   ]
  },
  {
   "cell_type": "code",
   "execution_count": 12,
   "metadata": {
    "execution": {
     "iopub.execute_input": "2022-12-05T08:02:19.225848Z",
     "iopub.status.busy": "2022-12-05T08:02:19.225063Z",
     "iopub.status.idle": "2022-12-05T08:02:19.240592Z",
     "shell.execute_reply": "2022-12-05T08:02:19.239307Z",
     "shell.execute_reply.started": "2022-12-05T08:02:19.225805Z"
    }
   },
   "outputs": [
    {
     "name": "stdout",
     "output_type": "stream",
     "text": [
      "There are 319 features with 0.0 importance\n"
     ]
    },
    {
     "data": {
      "text/html": [
       "<div>\n",
       "<style scoped>\n",
       "    .dataframe tbody tr th:only-of-type {\n",
       "        vertical-align: middle;\n",
       "    }\n",
       "\n",
       "    .dataframe tbody tr th {\n",
       "        vertical-align: top;\n",
       "    }\n",
       "\n",
       "    .dataframe thead th {\n",
       "        text-align: right;\n",
       "    }\n",
       "</style>\n",
       "<table border=\"1\" class=\"dataframe\">\n",
       "  <thead>\n",
       "    <tr style=\"text-align: right;\">\n",
       "      <th></th>\n",
       "      <th>feature</th>\n",
       "      <th>importance</th>\n",
       "    </tr>\n",
       "  </thead>\n",
       "  <tbody>\n",
       "    <tr>\n",
       "      <th>114</th>\n",
       "      <td>bureau_CREDIT_DAY_OVERDUE_max</td>\n",
       "      <td>0.0</td>\n",
       "    </tr>\n",
       "    <tr>\n",
       "      <th>115</th>\n",
       "      <td>bureau_CREDIT_DAY_OVERDUE_min</td>\n",
       "      <td>0.0</td>\n",
       "    </tr>\n",
       "    <tr>\n",
       "      <th>566</th>\n",
       "      <td>previous_CHANNEL_TYPE_Countrywide_sum</td>\n",
       "      <td>0.0</td>\n",
       "    </tr>\n",
       "    <tr>\n",
       "      <th>565</th>\n",
       "      <td>client_cash_NAME_CONTRACT_STATUS_Approved_mean...</td>\n",
       "      <td>0.0</td>\n",
       "    </tr>\n",
       "    <tr>\n",
       "      <th>113</th>\n",
       "      <td>bureau_CREDIT_DAY_OVERDUE_mean</td>\n",
       "      <td>0.0</td>\n",
       "    </tr>\n",
       "  </tbody>\n",
       "</table>\n",
       "</div>"
      ],
      "text/plain": [
       "                                               feature  importance\n",
       "114                      bureau_CREDIT_DAY_OVERDUE_max         0.0\n",
       "115                      bureau_CREDIT_DAY_OVERDUE_min         0.0\n",
       "566              previous_CHANNEL_TYPE_Countrywide_sum         0.0\n",
       "565  client_cash_NAME_CONTRACT_STATUS_Approved_mean...         0.0\n",
       "113                     bureau_CREDIT_DAY_OVERDUE_mean         0.0"
      ]
     },
     "execution_count": 12,
     "metadata": {},
     "output_type": "execute_result"
    }
   ],
   "source": [
    "zero_features = list(feature_importances[feature_importances['importance'] == 0.0]['feature'])\n",
    "print('There are %d features with 0.0 importance' % len(zero_features))\n",
    "feature_importances.tail()"
   ]
  },
  {
   "cell_type": "code",
   "execution_count": 13,
   "metadata": {
    "execution": {
     "iopub.execute_input": "2022-12-05T08:02:54.759680Z",
     "iopub.status.busy": "2022-12-05T08:02:54.759117Z",
     "iopub.status.idle": "2022-12-05T08:02:54.773171Z",
     "shell.execute_reply": "2022-12-05T08:02:54.771444Z",
     "shell.execute_reply.started": "2022-12-05T08:02:54.759634Z"
    }
   },
   "outputs": [],
   "source": [
    "def plot_feature_importances(df, threshold = 0.9):\n",
    "    plt.rcParams['font.size'] = 18\n",
    "    \n",
    "    # Sort features according to importance\n",
    "    df = df.sort_values('importance', ascending = False).reset_index()\n",
    "    \n",
    "    # Normalize the feature importances to add up to one\n",
    "    df['importance_normalized'] = df['importance'] / df['importance'].sum()\n",
    "    df['cumulative_importance'] = np.cumsum(df['importance_normalized'])\n",
    "\n",
    "    # Make a horizontal bar chart of feature importances\n",
    "    plt.figure(figsize = (10, 6))\n",
    "    ax = plt.subplot()\n",
    "    \n",
    "    # Need to reverse the index to plot most important on top\n",
    "    ax.barh(list(reversed(list(df.index[:15]))), \n",
    "            df['importance_normalized'].head(15), \n",
    "            align = 'center', edgecolor = 'k')\n",
    "    \n",
    "    # Set the yticks and labels\n",
    "    ax.set_yticks(list(reversed(list(df.index[:15]))))\n",
    "    ax.set_yticklabels(df['feature'].head(15))\n",
    "    \n",
    "    # Plot labeling\n",
    "    plt.xlabel('Normalized Importance'); plt.title('Feature Importances')\n",
    "    plt.show()\n",
    "    \n",
    "    # Cumulative importance plot\n",
    "    plt.figure(figsize = (8, 6))\n",
    "    plt.plot(list(range(len(df))), df['cumulative_importance'], 'r-')\n",
    "    plt.xlabel('Number of Features'); plt.ylabel('Cumulative Importance'); \n",
    "    plt.title('Cumulative Feature Importance');\n",
    "    plt.show();\n",
    "    \n",
    "    importance_index = np.min(np.where(df['cumulative_importance'] > threshold))\n",
    "    print('%d features required for %0.2f of cumulative importance' % (importance_index + 1, threshold))\n",
    "    \n",
    "    return df"
   ]
  },
  {
   "cell_type": "code",
   "execution_count": 14,
   "metadata": {
    "execution": {
     "iopub.execute_input": "2022-12-05T08:03:02.168456Z",
     "iopub.status.busy": "2022-12-05T08:03:02.167990Z",
     "iopub.status.idle": "2022-12-05T08:03:02.749687Z",
     "shell.execute_reply": "2022-12-05T08:03:02.747850Z",
     "shell.execute_reply.started": "2022-12-05T08:03:02.168421Z"
    }
   },
   "outputs": [
    {
     "data": {
      "image/png": "[encoded data removed]",
      "text/plain": [
       "<Figure size 720x432 with 1 Axes>"
      ]
     },
     "metadata": {
      "needs_background": "light"
     },
     "output_type": "display_data"
    },
    {
     "data": {
      "image/png": "[encoded data removed]",
      "text/plain": [
       "<Figure size 576x432 with 1 Axes>"
      ]
     },
     "metadata": {
      "needs_background": "light"
     },
     "output_type": "display_data"
    },
    {
     "name": "stdout",
     "output_type": "stream",
     "text": [
      "288 features required for 0.90 of cumulative importance\n"
     ]
    }
   ],
   "source": [
    "norm_feature_importances = plot_feature_importances(feature_importances)"
   ]
  },
  {
   "cell_type": "code",
   "execution_count": 15,
   "metadata": {
    "execution": {
     "iopub.execute_input": "2022-12-05T08:04:26.684249Z",
     "iopub.status.busy": "2022-12-05T08:04:26.683703Z",
     "iopub.status.idle": "2022-12-05T08:04:27.476218Z",
     "shell.execute_reply": "2022-12-05T08:04:27.473409Z",
     "shell.execute_reply.started": "2022-12-05T08:04:26.684200Z"
    }
   },
   "outputs": [
    {
     "name": "stdout",
     "output_type": "stream",
     "text": [
      "Training shape:  (307511, 567)\n",
      "Testing shape:  (48744, 567)\n"
     ]
    }
   ],
   "source": [
    "#Let's remove the features that have zero importance.\n",
    "train = train.drop(columns = zero_features)\n",
    "test = test.drop(columns = zero_features)\n",
    "\n",
    "print('Training shape: ', train.shape)\n",
    "print('Testing shape: ', test.shape)"
   ]
  },
  {
   "cell_type": "markdown",
   "metadata": {},
   "source": [
    "## Checking again for the zero importance features"
   ]
  },
  {
   "cell_type": "code",
   "execution_count": 16,
   "metadata": {
    "execution": {
     "iopub.execute_input": "2022-12-05T08:04:53.486799Z",
     "iopub.status.busy": "2022-12-05T08:04:53.486266Z",
     "iopub.status.idle": "2022-12-05T08:04:53.497244Z",
     "shell.execute_reply": "2022-12-05T08:04:53.496084Z",
     "shell.execute_reply.started": "2022-12-05T08:04:53.486754Z"
    }
   },
   "outputs": [],
   "source": [
    "def identify_zero_importance_features(train, train_labels, iterations = 2):\n",
    "    # Initialize an empty array to hold feature importances\n",
    "    feature_importances = np.zeros(train.shape[1])\n",
    "\n",
    "    # Create the model with several hyperparameters\n",
    "    model = lgb.LGBMClassifier(objective='binary', boosting_type = 'goss', n_estimators = 10000, class_weight = 'balanced')\n",
    "    \n",
    "    # Fit the model multiple times to avoid overfitting\n",
    "    for i in range(iterations):\n",
    "\n",
    "        # Split into training and validation set\n",
    "        train_features, valid_features, train_y, valid_y = train_test_split(train, train_labels, test_size = 0.25, random_state = i)\n",
    "\n",
    "        # Train using early stopping\n",
    "        model.fit(train_features, train_y, early_stopping_rounds=100, eval_set = [(valid_features, valid_y)], \n",
    "                  eval_metric = 'auc', verbose = 200)\n",
    "\n",
    "        # Record the feature importances\n",
    "        feature_importances += model.feature_importances_ / iterations\n",
    "    \n",
    "    feature_importances = pd.DataFrame({'feature': list(train.columns), 'importance': feature_importances}).sort_values('importance', ascending = False)\n",
    "    \n",
    "    # Find the features with zero importance\n",
    "    zero_features = list(feature_importances[feature_importances['importance'] == 0.0]['feature'])\n",
    "    print('\\nThere are %d features with 0.0 importance' % len(zero_features))\n",
    "    \n",
    "    return zero_features, feature_importances"
   ]
  },
  {
   "cell_type": "code",
   "execution_count": 17,
   "metadata": {
    "execution": {
     "iopub.execute_input": "2022-12-05T08:05:06.669489Z",
     "iopub.status.busy": "2022-12-05T08:05:06.668291Z",
     "iopub.status.idle": "2022-12-05T08:07:37.469707Z",
     "shell.execute_reply": "2022-12-05T08:07:37.468723Z",
     "shell.execute_reply.started": "2022-12-05T08:05:06.669442Z"
    }
   },
   "outputs": [
    {
     "name": "stdout",
     "output_type": "stream",
     "text": [
      "[200]\tvalid_0's auc: 0.786998\tvalid_0's binary_logloss: 0.502937\n",
      "[200]\tvalid_0's auc: 0.787448\tvalid_0's binary_logloss: 0.503019\n",
      "\n",
      "There are 0 features with 0.0 importance\n"
     ]
    }
   ],
   "source": [
    "second_round_zero_features, feature_importances = identify_zero_importance_features(train, train_labels)"
   ]
  },
  {
   "cell_type": "code",
   "execution_count": 18,
   "metadata": {
    "execution": {
     "iopub.execute_input": "2022-12-05T08:08:26.648104Z",
     "iopub.status.busy": "2022-12-05T08:08:26.647581Z",
     "iopub.status.idle": "2022-12-05T08:08:26.664035Z",
     "shell.execute_reply": "2022-12-05T08:08:26.662685Z",
     "shell.execute_reply.started": "2022-12-05T08:08:26.648063Z"
    }
   },
   "outputs": [
    {
     "name": "stdout",
     "output_type": "stream",
     "text": [
      "There are 0 features with 0.0 importance\n"
     ]
    },
    {
     "data": {
      "text/html": [
       "<div>\n",
       "<style scoped>\n",
       "    .dataframe tbody tr th:only-of-type {\n",
       "        vertical-align: middle;\n",
       "    }\n",
       "\n",
       "    .dataframe tbody tr th {\n",
       "        vertical-align: top;\n",
       "    }\n",
       "\n",
       "    .dataframe thead th {\n",
       "        text-align: right;\n",
       "    }\n",
       "</style>\n",
       "<table border=\"1\" class=\"dataframe\">\n",
       "  <thead>\n",
       "    <tr style=\"text-align: right;\">\n",
       "      <th></th>\n",
       "      <th>feature</th>\n",
       "      <th>importance</th>\n",
       "    </tr>\n",
       "  </thead>\n",
       "  <tbody>\n",
       "    <tr>\n",
       "      <th>365</th>\n",
       "      <td>client_credit_NAME_CONTRACT_STATUS_Signed_mean...</td>\n",
       "      <td>0.5</td>\n",
       "    </tr>\n",
       "    <tr>\n",
       "      <th>364</th>\n",
       "      <td>client_credit_AMT_INST_MIN_REGULARITY_min_sum</td>\n",
       "      <td>0.5</td>\n",
       "    </tr>\n",
       "    <tr>\n",
       "      <th>360</th>\n",
       "      <td>previous_CHANNEL_TYPE_Contactcenter_sum</td>\n",
       "      <td>0.5</td>\n",
       "    </tr>\n",
       "    <tr>\n",
       "      <th>348</th>\n",
       "      <td>previous_NAME_GOODS_CATEGORY_Medicine_mean</td>\n",
       "      <td>0.5</td>\n",
       "    </tr>\n",
       "    <tr>\n",
       "      <th>347</th>\n",
       "      <td>previous_CODE_REJECT_REASON_LIMIT_sum</td>\n",
       "      <td>0.5</td>\n",
       "    </tr>\n",
       "  </tbody>\n",
       "</table>\n",
       "</div>"
      ],
      "text/plain": [
       "                                               feature  importance\n",
       "365  client_credit_NAME_CONTRACT_STATUS_Signed_mean...         0.5\n",
       "364      client_credit_AMT_INST_MIN_REGULARITY_min_sum         0.5\n",
       "360            previous_CHANNEL_TYPE_Contactcenter_sum         0.5\n",
       "348         previous_NAME_GOODS_CATEGORY_Medicine_mean         0.5\n",
       "347              previous_CODE_REJECT_REASON_LIMIT_sum         0.5"
      ]
     },
     "execution_count": 18,
     "metadata": {},
     "output_type": "execute_result"
    }
   ],
   "source": [
    "zero_features = list(feature_importances[feature_importances['importance'] == 0.0]['feature'])\n",
    "print('There are %d features with 0.0 importance' % len(zero_features))\n",
    "feature_importances.tail()"
   ]
  },
  {
   "cell_type": "code",
   "execution_count": 21,
   "metadata": {
    "execution": {
     "iopub.execute_input": "2022-12-05T08:09:52.627093Z",
     "iopub.status.busy": "2022-12-05T08:09:52.620093Z",
     "iopub.status.idle": "2022-12-05T08:09:54.345331Z",
     "shell.execute_reply": "2022-12-05T08:09:54.342576Z",
     "shell.execute_reply.started": "2022-12-05T08:09:52.627003Z"
    }
   },
   "outputs": [
    {
     "data": {
      "image/png": "[encoded data removed]",
      "text/plain": [
       "<Figure size 720x432 with 1 Axes>"
      ]
     },
     "metadata": {
      "needs_background": "light"
     },
     "output_type": "display_data"
    },
    {
     "data": {
      "image/png": "[encoded data removed]",
      "text/plain": [
       "<Figure size 576x432 with 1 Axes>"
      ]
     },
     "metadata": {
      "needs_background": "light"
     },
     "output_type": "display_data"
    },
    {
     "name": "stdout",
     "output_type": "stream",
     "text": [
      "292 features required for 0.90 of cumulative importance\n"
     ]
    }
   ],
   "source": [
    "norm_feature_importances = plot_feature_importances(feature_importances, threshold = 0.9)"
   ]
  },
  {
   "cell_type": "code",
   "execution_count": 22,
   "metadata": {
    "execution": {
     "iopub.execute_input": "2022-12-05T08:10:55.550878Z",
     "iopub.status.busy": "2022-12-05T08:10:55.549991Z",
     "iopub.status.idle": "2022-12-05T08:10:56.539913Z",
     "shell.execute_reply": "2022-12-05T08:10:56.538358Z",
     "shell.execute_reply.started": "2022-12-05T08:10:55.550827Z"
    }
   },
   "outputs": [],
   "source": [
    "# Threshold for cumulative importance\n",
    "threshold = 0.90\n",
    "\n",
    "# Extract the features to keep\n",
    "features_to_keep = list(norm_feature_importances[norm_feature_importances['cumulative_importance'] < threshold]['feature'])\n",
    "\n",
    "# Create new datasets with smaller features\n",
    "train_feature_imp = train[features_to_keep]\n",
    "test_feature_imp = test[features_to_keep]"
   ]
  },
  {
   "cell_type": "code",
   "execution_count": 23,
   "metadata": {
    "execution": {
     "iopub.execute_input": "2022-12-05T08:12:39.075818Z",
     "iopub.status.busy": "2022-12-05T08:12:39.075226Z",
     "iopub.status.idle": "2022-12-05T08:12:39.086081Z",
     "shell.execute_reply": "2022-12-05T08:12:39.084957Z",
     "shell.execute_reply.started": "2022-12-05T08:12:39.075779Z"
    }
   },
   "outputs": [],
   "source": [
    "train_feature_imp['TARGET'] = train_labels\n",
    "train_feature_imp['SK_ID_CURR'] = train_ids\n",
    "test_feature_imp['SK_ID_CURR'] = test_ids"
   ]
  },
  {
   "cell_type": "code",
   "execution_count": 24,
   "metadata": {
    "execution": {
     "iopub.execute_input": "2022-12-05T08:13:07.292214Z",
     "iopub.status.busy": "2022-12-05T08:13:07.291622Z",
     "iopub.status.idle": "2022-12-05T08:14:21.226599Z",
     "shell.execute_reply": "2022-12-05T08:14:21.224958Z",
     "shell.execute_reply.started": "2022-12-05T08:13:07.292165Z"
    }
   },
   "outputs": [],
   "source": [
    "train_feature_imp.to_csv('train_feature_imp.csv', index = False)\n",
    "test_feature_imp.to_csv('test_feature_imp.csv', index = False)"
   ]
  }
 ],
 "metadata": {
  "kernelspec": {
   "display_name": "Python 3 (ipykernel)",
   "language": "python",
   "name": "python3"
  },
  "language_info": {
   "codemirror_mode": {
    "name": "ipython",
    "version": 3
   },
   "file_extension": ".py",
   "mimetype": "text/x-python",
   "name": "python",
   "nbconvert_exporter": "python",
   "pygments_lexer": "ipython3",
   "version": "3.9.12"
  }
 },
 "nbformat": 4,
 "nbformat_minor": 4
}
