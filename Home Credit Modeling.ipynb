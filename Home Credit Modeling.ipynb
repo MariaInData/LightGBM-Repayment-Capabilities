{
 "cells": [
  {
   "cell_type": "code",
   "execution_count": 23,
   "metadata": {
    "execution": {
     "iopub.execute_input": "2022-12-08T22:07:21.157787Z",
     "iopub.status.busy": "2022-12-08T22:07:21.157397Z",
     "iopub.status.idle": "2022-12-08T22:07:22.895401Z",
     "shell.execute_reply": "2022-12-08T22:07:22.894240Z",
     "shell.execute_reply.started": "2022-12-08T22:07:21.157757Z"
    }
   },
   "outputs": [
    {
     "data": {
      "text/html": [
       "<style type='text/css'>\n",
       ".datatable table.frame { margin-bottom: 0; }\n",
       ".datatable table.frame thead { border-bottom: none; }\n",
       ".datatable table.frame tr.coltypes td {  color: #FFFFFF;  line-height: 6px;  padding: 0 0.5em;}\n",
       ".datatable .bool    { background: #DDDD99; }\n",
       ".datatable .object  { background: #565656; }\n",
       ".datatable .int     { background: #5D9E5D; }\n",
       ".datatable .float   { background: #4040CC; }\n",
       ".datatable .str     { background: #CC4040; }\n",
       ".datatable .time    { background: #40CC40; }\n",
       ".datatable .row_index {  background: var(--jp-border-color3);  border-right: 1px solid var(--jp-border-color0);  color: var(--jp-ui-font-color3);  font-size: 9px;}\n",
       ".datatable .frame tbody td { text-align: left; }\n",
       ".datatable .frame tr.coltypes .row_index {  background: var(--jp-border-color0);}\n",
       ".datatable th:nth-child(2) { padding-left: 12px; }\n",
       ".datatable .hellipsis {  color: var(--jp-cell-editor-border-color);}\n",
       ".datatable .vellipsis {  background: var(--jp-layout-color0);  color: var(--jp-cell-editor-border-color);}\n",
       ".datatable .na {  color: var(--jp-cell-editor-border-color);  font-size: 80%;}\n",
       ".datatable .sp {  opacity: 0.25;}\n",
       ".datatable .footer { font-size: 9px; }\n",
       ".datatable .frame_dimensions {  background: var(--jp-border-color3);  border-top: 1px solid var(--jp-border-color0);  color: var(--jp-ui-font-color3);  display: inline-block;  opacity: 0.6;  padding: 1px 10px 1px 5px;}\n",
       ".datatable .frame thead tr.colnames {  background-image: url('data:image/png;base64,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');  background-repeat: repeat-x;  background-size: 14px;  height: 28px;}\n",
       "</style>\n"
      ],
      "text/plain": [
       "<IPython.core.display.HTML object>"
      ]
     },
     "metadata": {},
     "output_type": "display_data"
    }
   ],
   "source": [
    "#Import the packages we need\n",
    "import os\n",
    "import numpy as np \n",
    "import pandas as pd \n",
    "from sklearn.ensemble import RandomForestClassifier\n",
    "from sklearn.metrics import roc_curve,roc_auc_score,classification_report\n",
    "from sklearn.model_selection import cross_val_score, train_test_split,GridSearchCV,KFold\n",
    "from sklearn import linear_model,tree,linear_model\n",
    "from lightgbm import LGBMClassifier\n",
    "import re\n",
    "import warnings\n",
    "warnings.filterwarnings('ignore')\n",
    "import matplotlib.pyplot as plt"
   ]
  },
  {
   "cell_type": "markdown",
   "metadata": {},
   "source": [
    "# Getting the data"
   ]
  },
  {
   "cell_type": "code",
   "execution_count": 3,
   "metadata": {
    "execution": {
     "iopub.execute_input": "2022-12-08T15:47:09.022823Z",
     "iopub.status.busy": "2022-12-08T15:47:09.022451Z",
     "iopub.status.idle": "2022-12-08T15:47:09.037972Z",
     "shell.execute_reply": "2022-12-08T15:47:09.037326Z",
     "shell.execute_reply.started": "2022-12-08T15:47:09.022792Z"
    }
   },
   "outputs": [
    {
     "data": {
      "text/plain": [
       "0    282686\n",
       "1     24825\n",
       "Name: TARGET, dtype: int64"
      ]
     },
     "execution_count": 3,
     "metadata": {},
     "output_type": "execute_result"
    }
   ],
   "source": [
    "data[\"TARGET\"].value_counts()\n",
    "#U nbalanced data, we may need to use undeersampling or oversampling to improve our performance"
   ]
  },
  {
   "cell_type": "code",
   "execution_count": 4,
   "metadata": {
    "execution": {
     "iopub.execute_input": "2022-12-08T15:47:10.140736Z",
     "iopub.status.busy": "2022-12-08T15:47:10.140352Z",
     "iopub.status.idle": "2022-12-08T15:47:11.046651Z",
     "shell.execute_reply": "2022-12-08T15:47:11.045793Z",
     "shell.execute_reply.started": "2022-12-08T15:47:10.140706Z"
    }
   },
   "outputs": [],
   "source": [
    "x_train = data.drop(columns=\"TARGET\")\n",
    "y_train = data[\"TARGET\"]"
   ]
  },
  {
   "cell_type": "markdown",
   "metadata": {},
   "source": [
    "# Nested CV"
   ]
  },
  {
   "cell_type": "code",
   "execution_count": 6,
   "metadata": {
    "execution": {
     "iopub.execute_input": "2022-12-08T15:47:13.950915Z",
     "iopub.status.busy": "2022-12-08T15:47:13.950327Z",
     "iopub.status.idle": "2022-12-08T15:47:13.954963Z",
     "shell.execute_reply": "2022-12-08T15:47:13.954269Z",
     "shell.execute_reply.started": "2022-12-08T15:47:13.950884Z"
    }
   },
   "outputs": [],
   "source": [
    "dt = tree.DecisionTreeClassifier()\n",
    "dt_grid ={\n",
    " \"max_depth\" : [3,6,9],\n",
    " \"max_leaf_nodes\": [5,10,15],\n",
    " \"min_samples_leaf\": [5,10,15]\n",
    "}"
   ]
  },
  {
   "cell_type": "code",
   "execution_count": 7,
   "metadata": {
    "execution": {
     "iopub.execute_input": "2022-12-08T15:47:14.467313Z",
     "iopub.status.busy": "2022-12-08T15:47:14.466911Z",
     "iopub.status.idle": "2022-12-08T15:47:14.472172Z",
     "shell.execute_reply": "2022-12-08T15:47:14.471143Z",
     "shell.execute_reply.started": "2022-12-08T15:47:14.467280Z"
    }
   },
   "outputs": [],
   "source": [
    "lr = linear_model.LinearRegression()"
   ]
  },
  {
   "cell_type": "code",
   "execution_count": 8,
   "metadata": {
    "execution": {
     "iopub.execute_input": "2022-12-08T15:47:14.941554Z",
     "iopub.status.busy": "2022-12-08T15:47:14.940932Z",
     "iopub.status.idle": "2022-12-08T15:47:14.946419Z",
     "shell.execute_reply": "2022-12-08T15:47:14.945403Z",
     "shell.execute_reply.started": "2022-12-08T15:47:14.941517Z"
    }
   },
   "outputs": [],
   "source": [
    "rf = RandomForestClassifier()\n",
    "rf_grid = {\n",
    "    \"n_estimators\":[50,100,300],\n",
    "    \"max_depth\":[4,8,16]\n",
    "}"
   ]
  },
  {
   "cell_type": "code",
   "execution_count": 9,
   "metadata": {
    "execution": {
     "iopub.execute_input": "2022-12-08T15:47:15.906758Z",
     "iopub.status.busy": "2022-12-08T15:47:15.904706Z",
     "iopub.status.idle": "2022-12-08T15:47:15.911513Z",
     "shell.execute_reply": "2022-12-08T15:47:15.910586Z",
     "shell.execute_reply.started": "2022-12-08T15:47:15.906715Z"
    }
   },
   "outputs": [],
   "source": [
    "lgbm = LGBMClassifier()\n",
    "lgbm_grid = {  \n",
    "    \"num_leaves\":[5,10,15],\n",
    "    \"n_estimators\":[300,500,1000],\n",
    "    \"learning_rate\":[0.3,0.5,0.7]}"
   ]
  },
  {
   "cell_type": "code",
   "execution_count": 10,
   "metadata": {
    "execution": {
     "iopub.execute_input": "2022-12-08T15:47:16.472176Z",
     "iopub.status.busy": "2022-12-08T15:47:16.471734Z",
     "iopub.status.idle": "2022-12-08T15:47:16.477165Z",
     "shell.execute_reply": "2022-12-08T15:47:16.476332Z",
     "shell.execute_reply.started": "2022-12-08T15:47:16.472140Z"
    }
   },
   "outputs": [],
   "source": [
    "inner_cv = KFold(n_splits=3,shuffle = True,random_state = 1)\n",
    "outer_cv = KFold(n_splits=3,shuffle = True,random_state = 1)\n",
    "scoring = \"roc_auc\""
   ]
  },
  {
   "cell_type": "code",
   "execution_count": 11,
   "metadata": {
    "execution": {
     "iopub.execute_input": "2022-12-08T15:47:25.801884Z",
     "iopub.status.busy": "2022-12-08T15:47:25.801222Z",
     "iopub.status.idle": "2022-12-08T15:47:25.807017Z",
     "shell.execute_reply": "2022-12-08T15:47:25.805994Z",
     "shell.execute_reply.started": "2022-12-08T15:47:25.801854Z"
    }
   },
   "outputs": [],
   "source": [
    "dt_clf = GridSearchCV(estimator = dt,param_grid = dt_grid, scoring = scoring, cv = inner_cv)\n",
    "lr_reg = lr\n",
    "rf_clf = GridSearchCV(estimator = rf,param_grid = rf_grid, scoring = scoring, cv = inner_cv)\n",
    "lgbm_clf = GridSearchCV(estimator = lgbm,param_grid = lgbm_grid, scoring = scoring, cv = inner_cv)"
   ]
  },
  {
   "cell_type": "code",
   "execution_count": 14,
   "metadata": {
    "execution": {
     "iopub.execute_input": "2022-12-08T16:03:24.230254Z",
     "iopub.status.busy": "2022-12-08T16:03:24.229864Z",
     "iopub.status.idle": "2022-12-08T16:03:26.019800Z",
     "shell.execute_reply": "2022-12-08T16:03:26.018921Z",
     "shell.execute_reply.started": "2022-12-08T16:03:24.230226Z"
    }
   },
   "outputs": [],
   "source": [
    "dt_score = cross_val_score(estimator = tree.DecisionTreeClassifier(),X=x_train,y=y_train, scoring = scoring, cv = outer_cv)"
   ]
  },
  {
   "cell_type": "code",
   "execution_count": 15,
   "metadata": {
    "execution": {
     "iopub.execute_input": "2022-12-08T05:33:20.447166Z",
     "iopub.status.busy": "2022-12-08T05:33:20.446683Z",
     "iopub.status.idle": "2022-12-08T05:33:22.128976Z",
     "shell.execute_reply": "2022-12-08T05:33:22.127713Z",
     "shell.execute_reply.started": "2022-12-08T05:33:20.447120Z"
    }
   },
   "outputs": [],
   "source": [
    "lr_score = cross_val_score(estimator = lr,X=x_train,y=y_train, scoring = scoring, cv = outer_cv)"
   ]
  },
  {
   "cell_type": "code",
   "execution_count": 16,
   "metadata": {
    "execution": {
     "iopub.execute_input": "2022-12-08T05:33:22.131144Z",
     "iopub.status.busy": "2022-12-08T05:33:22.130707Z",
     "iopub.status.idle": "2022-12-08T05:33:57.824090Z",
     "shell.execute_reply": "2022-12-08T05:33:57.822931Z",
     "shell.execute_reply.started": "2022-12-08T05:33:22.131100Z"
    }
   },
   "outputs": [],
   "source": [
    "rf_score = cross_val_score(estimator = rf_clf,X=x_train,y=y_train,scoring = scoring, cv = outer_cv)"
   ]
  },
  {
   "cell_type": "code",
   "execution_count": 17,
   "metadata": {
    "execution": {
     "iopub.execute_input": "2022-12-08T05:33:57.826760Z",
     "iopub.status.busy": "2022-12-08T05:33:57.826317Z",
     "iopub.status.idle": "2022-12-08T07:51:26.723057Z",
     "shell.execute_reply": "2022-12-08T07:51:26.721799Z",
     "shell.execute_reply.started": "2022-12-08T05:33:57.826724Z"
    }
   },
   "outputs": [],
   "source": [
    "lgbm_score = cross_val_score(estimator = lgbm_clf,X=x_train,y=y_train,scoring = scoring, cv = outer_cv)"
   ]
  },
  {
   "cell_type": "code",
   "execution_count": 18,
   "metadata": {
    "execution": {
     "iopub.execute_input": "2022-12-08T22:04:21.615207Z",
     "iopub.status.busy": "2022-12-08T22:04:21.614771Z",
     "iopub.status.idle": "2022-12-08T22:04:21.621406Z",
     "shell.execute_reply": "2022-12-08T22:04:21.620255Z",
     "shell.execute_reply.started": "2022-12-08T22:04:21.615167Z"
    }
   },
   "outputs": [
    {
     "name": "stdout",
     "output_type": "stream",
     "text": [
      "0.644\n",
      "0.692\n",
      "0.763\n",
      "0.776\n"
     ]
    }
   ],
   "source": []
  },
  {
   "cell_type": "code",
   "execution_count": 43,
   "metadata": {
    "execution": {
     "iopub.execute_input": "2022-12-08T22:25:56.690364Z",
     "iopub.status.busy": "2022-12-08T22:25:56.689954Z",
     "iopub.status.idle": "2022-12-08T22:25:56.697155Z",
     "shell.execute_reply": "2022-12-08T22:25:56.695722Z",
     "shell.execute_reply.started": "2022-12-08T22:25:56.690326Z"
    }
   },
   "outputs": [
    {
     "name": "stdout",
     "output_type": "stream",
     "text": [
      "0.644\n",
      "0.692\n",
      "0.763\n",
      "0.776\n"
     ]
    }
   ],
   "source": [
    "print(round(dt_score.mean()),3)\n",
    "print(round(lr_score.mean()),3)\n",
    "print(round(rf_score.mean()),3)\n",
    "print(round(lgbm_score.mean()),3)"
   ]
  },
  {
   "cell_type": "code",
   "execution_count": 48,
   "metadata": {
    "execution": {
     "iopub.execute_input": "2022-12-08T22:27:37.074613Z",
     "iopub.status.busy": "2022-12-08T22:27:37.074225Z",
     "iopub.status.idle": "2022-12-08T22:27:37.080081Z",
     "shell.execute_reply": "2022-12-08T22:27:37.079064Z",
     "shell.execute_reply.started": "2022-12-08T22:27:37.074581Z"
    }
   },
   "outputs": [
    {
     "name": "stdout",
     "output_type": "stream",
     "text": [
      "0.644\n",
      "0.692\n",
      "0.763\n",
      "0.776\n"
     ]
    }
   ],
   "source": [
    "for i in [0.644,0.692,0.763,0.776]:\n",
    "    print(i)"
   ]
  },
  {
   "cell_type": "markdown",
   "metadata": {},
   "source": [
    "# Oversampling and Undersampling"
   ]
  },
  {
   "cell_type": "code",
   "execution_count": null,
   "metadata": {},
   "outputs": [],
   "source": [
    "#Because the target variable is unbalanced, we want to see if undersampling or oversampling will improve the performance,\n",
    "#and then tune the hyparameters for the lgbm model"
   ]
  },
  {
   "cell_type": "code",
   "execution_count": null,
   "metadata": {},
   "outputs": [],
   "source": [
    "#Undersampling"
   ]
  },
  {
   "cell_type": "code",
   "execution_count": 20,
   "metadata": {
    "execution": {
     "iopub.execute_input": "2022-12-08T22:05:21.048898Z",
     "iopub.status.busy": "2022-12-08T22:05:21.048484Z",
     "iopub.status.idle": "2022-12-08T22:05:21.055525Z",
     "shell.execute_reply": "2022-12-08T22:05:21.054325Z",
     "shell.execute_reply.started": "2022-12-08T22:05:21.048866Z"
    }
   },
   "outputs": [
    {
     "name": "stdout",
     "output_type": "stream",
     "text": [
      "0.783\n",
      "0.773\n",
      "0.785\n",
      "0.781\n",
      "0.781\n",
      "0.772\n",
      "0.776\n"
     ]
    }
   ],
   "source": [
    "for i in [25000,50000,75000,100000,120000,180000,282686]:\n",
    "    df1 = data[data[\"TARGET\"]==0].sample(n=i,replace=False,random_state=123)\n",
    "    df2 = data[data[\"TARGET\"]==1].sample(n=24825,replace=False,random_state=123)\n",
    "    df = pd.concat([df1,df2],axis=0)\n",
    "    X = df.drop(columns=\"TARGET\")\n",
    "    Y = df[\"TARGET\"]\n",
    "    x_train,x_test,y_train,y_test = train_test_split(X,Y,test_size=0.2,random_state=123)\n",
    "    lgbm = LGBMClassifier()\n",
    "    lgbm.fit(x_train,y_train)\n",
    "    score = roc_auc_score(y_test.values,lgbm.predict_proba(x_test)[:,1])\n",
    "    print(round(score,3))"
   ]
  },
  {
   "cell_type": "code",
   "execution_count": 5,
   "metadata": {
    "execution": {
     "iopub.execute_input": "2022-12-08T22:03:33.345682Z",
     "iopub.status.busy": "2022-12-08T22:03:33.344563Z",
     "iopub.status.idle": "2022-12-08T22:03:33.348983Z",
     "shell.execute_reply": "2022-12-08T22:03:33.348220Z",
     "shell.execute_reply.started": "2022-12-08T22:03:33.345645Z"
    }
   },
   "outputs": [],
   "source": [
    "#Oversampling"
   ]
  },
  {
   "cell_type": "code",
   "execution_count": 21,
   "metadata": {
    "execution": {
     "iopub.execute_input": "2022-12-08T22:06:12.940948Z",
     "iopub.status.busy": "2022-12-08T22:06:12.940532Z",
     "iopub.status.idle": "2022-12-08T22:06:12.947701Z",
     "shell.execute_reply": "2022-12-08T22:06:12.946702Z",
     "shell.execute_reply.started": "2022-12-08T22:06:12.940915Z"
    }
   },
   "outputs": [
    {
     "name": "stdout",
     "output_type": "stream",
     "text": [
      "0.784\n",
      "0.783\n",
      "0.786\n",
      "0.784\n",
      "0.779\n",
      "0.774\n",
      "0.776\n"
     ]
    }
   ],
   "source": [
    "for i in [25000,50000,75000,100000,120000]:\n",
    "    df1 = data[data[\"TARGET\"]==0]\n",
    "    df2 = data[data[\"TARGET\"]==1].sample(n=24825,replace=True,random_state=123)\n",
    "    df = pd.concat([df1,df2],axis=0)\n",
    "    X = df.drop(columns=\"TARGET\")\n",
    "    Y = df[\"TARGET\"]\n",
    "    x_train,x_test,y_train,y_test = train_test_split(X,Y,test_size=0.2,random_state=123)\n",
    "    lgbm = LGBMClassifier()\n",
    "    lgbm.fit(x_train,y_train)\n",
    "    score = roc_auc_score(y_test.values,lgbm.predict_proba(x_test)[:,1])\n",
    "    print(score)"
   ]
  },
  {
   "cell_type": "markdown",
   "metadata": {},
   "source": [
    "# Hyperparameter Tuning"
   ]
  },
  {
   "cell_type": "code",
   "execution_count": null,
   "metadata": {},
   "outputs": [],
   "source": [
    "#Then we run the model to tune the hyperparameter on the basis of oversampling"
   ]
  },
  {
   "cell_type": "code",
   "execution_count": 22,
   "metadata": {
    "execution": {
     "iopub.execute_input": "2022-12-08T07:53:55.270420Z",
     "iopub.status.busy": "2022-12-08T07:53:55.269209Z",
     "iopub.status.idle": "2022-12-08T08:59:12.676675Z",
     "shell.execute_reply": "2022-12-08T08:59:12.675405Z",
     "shell.execute_reply.started": "2022-12-08T07:53:55.270345Z"
    }
   },
   "outputs": [
    {
     "data": {
      "text/plain": [
       "GridSearchCV(cv=KFold(n_splits=3, random_state=1, shuffle=True),\n",
       "             estimator=LGBMClassifier(),\n",
       "             param_grid={'learning_rate': [0.3, 0.5, 0.7],\n",
       "                         'n_estimators': [300, 500, 1000],\n",
       "                         'num_leaves': [5, 10, 15]},\n",
       "             scoring='roc_auc')"
      ]
     },
     "execution_count": 22,
     "metadata": {},
     "output_type": "execute_result"
    }
   ],
   "source": [
    "lgbm_clf = GridSearchCV(estimator = lgbm,param_grid = lgbm_grid, scoring = scoring, cv = inner_cv)\n",
    "lgbm_clf.fit(x_train,y_train)"
   ]
  },
  {
   "cell_type": "code",
   "execution_count": 23,
   "metadata": {
    "execution": {
     "iopub.execute_input": "2022-12-08T08:59:12.679000Z",
     "iopub.status.busy": "2022-12-08T08:59:12.678299Z",
     "iopub.status.idle": "2022-12-08T08:59:12.687037Z",
     "shell.execute_reply": "2022-12-08T08:59:12.685855Z",
     "shell.execute_reply.started": "2022-12-08T08:59:12.678945Z"
    }
   },
   "outputs": [
    {
     "data": {
      "text/plain": [
       "{'learning_rate': 0.3, 'n_estimators': 1000, 'num_leaves': 15}"
      ]
     },
     "execution_count": 23,
     "metadata": {},
     "output_type": "execute_result"
    }
   ],
   "source": [
    "lgbm_clf.best_params_"
   ]
  },
  {
   "cell_type": "code",
   "execution_count": 36,
   "metadata": {
    "execution": {
     "iopub.execute_input": "2022-12-08T22:23:10.996085Z",
     "iopub.status.busy": "2022-12-08T22:23:10.995639Z",
     "iopub.status.idle": "2022-12-08T22:23:11.003744Z",
     "shell.execute_reply": "2022-12-08T22:23:11.002589Z",
     "shell.execute_reply.started": "2022-12-08T22:23:10.996044Z"
    },
    "scrolled": true
   },
   "outputs": [
    {
     "data": {
      "text/plain": [
       "0.795"
      ]
     },
     "execution_count": 36,
     "metadata": {},
     "output_type": "execute_result"
    }
   ],
   "source": [
    "lgbm_clf.best_score_"
   ]
  },
  {
   "cell_type": "markdown",
   "metadata": {},
   "source": [
    "# Output the file"
   ]
  },
  {
   "cell_type": "code",
   "execution_count": 38,
   "metadata": {
    "execution": {
     "iopub.execute_input": "2022-12-08T22:23:35.751854Z",
     "iopub.status.busy": "2022-12-08T22:23:35.751412Z",
     "iopub.status.idle": "2022-12-08T22:23:35.757950Z",
     "shell.execute_reply": "2022-12-08T22:23:35.756972Z",
     "shell.execute_reply.started": "2022-12-08T22:23:35.751816Z"
    }
   },
   "outputs": [
    {
     "name": "stdout",
     "output_type": "stream",
     "text": [
      "\n"
     ]
    }
   ],
   "source": [
    "sub = pd.read_csv(\"/kaggle/input/data-feature-imp/test_feature_imp.csv\")\n",
    "sub[\"TARGET\"] = lgbm_clf.predict_proba(sub)[:,1]\n",
    "sub = sub[[\"SK_ID_CURR\",\"TARGET\"]]\n",
    "sub.to_csv(f\"newmodels47.csv\",index=0)"
   ]
  },
  {
   "cell_type": "code",
   "execution_count": 54,
   "metadata": {
    "execution": {
     "iopub.execute_input": "2022-12-08T22:29:06.150633Z",
     "iopub.status.busy": "2022-12-08T22:29:06.150214Z",
     "iopub.status.idle": "2022-12-08T22:29:06.155683Z",
     "shell.execute_reply": "2022-12-08T22:29:06.154733Z",
     "shell.execute_reply.started": "2022-12-08T22:29:06.150596Z"
    }
   },
   "outputs": [
    {
     "name": "stdout",
     "output_type": "stream",
     "text": [
      "123\n"
     ]
    }
   ],
   "source": [
    "x = 123\n",
    "print(x)"
   ]
  },
  {
   "cell_type": "code",
   "execution_count": 55,
   "metadata": {
    "execution": {
     "iopub.execute_input": "2022-12-08T22:29:09.924424Z",
     "iopub.status.busy": "2022-12-08T22:29:09.923990Z",
     "iopub.status.idle": "2022-12-08T22:29:09.930811Z",
     "shell.execute_reply": "2022-12-08T22:29:09.929543Z",
     "shell.execute_reply.started": "2022-12-08T22:29:09.924387Z"
    }
   },
   "outputs": [
    {
     "name": "stdout",
     "output_type": "stream",
     "text": [
      "123\n"
     ]
    }
   ],
   "source": [
    "print(x)"
   ]
  },
  {
   "cell_type": "code",
   "execution_count": null,
   "metadata": {},
   "outputs": [],
   "source": []
  }
 ],
 "metadata": {
  "kernelspec": {
   "display_name": "Python 3 (ipykernel)",
   "language": "python",
   "name": "python3"
  },
  "language_info": {
   "codemirror_mode": {
    "name": "ipython",
    "version": 3
   },
   "file_extension": ".py",
   "mimetype": "text/x-python",
   "name": "python",
   "nbconvert_exporter": "python",
   "pygments_lexer": "ipython3",
   "version": "3.9.12"
  }
 },
 "nbformat": 4,
 "nbformat_minor": 4
}
